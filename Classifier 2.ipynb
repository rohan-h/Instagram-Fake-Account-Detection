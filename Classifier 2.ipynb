{
 "cells": [
  {
   "cell_type": "code",
   "execution_count": 12,
   "metadata": {},
   "outputs": [],
   "source": [
    "import numpy as np\n",
    "import matplotlib.pyplot as plt\n",
    "import random\n",
    "from random import seed\n",
    "import pandas as pd\n",
    "\n",
    "\n",
    "from sklearn.preprocessing import LabelEncoder, OneHotEncoder\n",
    "from sklearn.model_selection import train_test_split\n",
    "from sklearn.preprocessing import StandardScaler\n",
    "from sklearn.preprocessing import MinMaxScaler\n",
    "\n",
    "from keras.models import Sequential\n",
    "from keras.layers import Dense\n",
    "import keras_metrics as k\n",
    "from keras import optimizers\n",
    "\n",
    "from keras.utils.vis_utils import plot_model\n",
    "from sklearn.metrics import confusion_matrix, classification_report"
   ]
  },
  {
   "cell_type": "code",
   "execution_count": 2,
   "metadata": {},
   "outputs": [
    {
     "name": "stdout",
     "output_type": "stream",
     "text": [
      "(451, 10)\n",
      "(451,)\n",
      "[[  8   6  12 ...  73   0   0]\n",
      " [ 14 141   8 ... 115   0   1]\n",
      " [  9   0   7 ...  26   0   0]\n",
      " ...\n",
      " [  8 149  17 ... 551   0   1]\n",
      " [ 14   0   6 ...   2   0   0]\n",
      " [ 10   0   5 ...   3   0   0]]\n"
     ]
    }
   ],
   "source": [
    "dataset = pd.read_csv(\"train.csv\")\n",
    "\n",
    "features = dataset.iloc[:, 5:15].values\n",
    "print(features.shape)\n",
    "\n",
    "labels = dataset.iloc[:, 15].values\n",
    "print(labels.shape)\n",
    "#print(labels)\n",
    "\n",
    "print(features)"
   ]
  },
  {
   "cell_type": "code",
   "execution_count": 3,
   "metadata": {},
   "outputs": [
    {
     "name": "stdout",
     "output_type": "stream",
     "text": [
      "(405, 10)\n",
      "[[ 0.1613969  -0.64267776  1.36345119 ... -0.1745739  -0.25236607\n",
      "  -0.37529331]\n",
      " [-0.75494533 -0.64267776 -1.21691204 ... -0.17301408 -0.25236607\n",
      "  -0.37529331]\n",
      " [ 0.1613969  -0.64267776 -1.06512597 ... -0.07474586 -0.25236607\n",
      "  -0.37529331]\n",
      " ...\n",
      " [-0.14405051 -0.64267776 -1.21691204 ... -0.17145427 -0.25236607\n",
      "  -0.37529331]\n",
      " [-0.14405051 -0.64267776 -0.45798168 ... -0.15741595 -0.25236607\n",
      "  -0.37529331]\n",
      " [-1.36584015 -0.64267776 -1.21691204 ... -0.1745739  -0.25236607\n",
      "  -0.37529331]]\n"
     ]
    }
   ],
   "source": [
    "features_train, features_test, labels_train, labels_test = train_test_split(features, labels, test_size=0.1, random_state= 2255)\n",
    "print(features_train.shape)\n",
    "\n",
    "sc = StandardScaler()\n",
    "features_train = sc.fit_transform(features_train)\n",
    "features_test = sc.transform(features_test)\n",
    "\n",
    "print(features_train)"
   ]
  },
  {
   "cell_type": "code",
   "execution_count": 4,
   "metadata": {},
   "outputs": [
    {
     "name": "stdout",
     "output_type": "stream",
     "text": [
      "WARNING:tensorflow:From C:\\Users\\rohan\\Anaconda3\\lib\\site-packages\\keras\\backend\\tensorflow_backend.py:74: The name tf.get_default_graph is deprecated. Please use tf.compat.v1.get_default_graph instead.\n",
      "\n",
      "WARNING:tensorflow:From C:\\Users\\rohan\\Anaconda3\\lib\\site-packages\\keras\\backend\\tensorflow_backend.py:517: The name tf.placeholder is deprecated. Please use tf.compat.v1.placeholder instead.\n",
      "\n",
      "WARNING:tensorflow:From C:\\Users\\rohan\\Anaconda3\\lib\\site-packages\\keras\\backend\\tensorflow_backend.py:4138: The name tf.random_uniform is deprecated. Please use tf.random.uniform instead.\n",
      "\n",
      "WARNING:tensorflow:From C:\\Users\\rohan\\Anaconda3\\lib\\site-packages\\keras\\optimizers.py:790: The name tf.train.Optimizer is deprecated. Please use tf.compat.v1.train.Optimizer instead.\n",
      "\n",
      "WARNING:tensorflow:From C:\\Users\\rohan\\Anaconda3\\lib\\site-packages\\keras\\backend\\tensorflow_backend.py:3376: The name tf.log is deprecated. Please use tf.math.log instead.\n",
      "\n",
      "WARNING:tensorflow:From C:\\Users\\rohan\\Anaconda3\\lib\\site-packages\\tensorflow_core\\python\\ops\\nn_impl.py:183: where (from tensorflow.python.ops.array_ops) is deprecated and will be removed in a future version.\n",
      "Instructions for updating:\n",
      "Use tf.where in 2.0, which has the same broadcast rule as np.where\n",
      "_________________________________________________________________\n",
      "Layer (type)                 Output Shape              Param #   \n",
      "=================================================================\n",
      "dense_1 (Dense)              (None, 9)                 99        \n",
      "_________________________________________________________________\n",
      "dense_2 (Dense)              (None, 50)                500       \n",
      "_________________________________________________________________\n",
      "dense_3 (Dense)              (None, 1)                 51        \n",
      "=================================================================\n",
      "Total params: 650\n",
      "Trainable params: 650\n",
      "Non-trainable params: 0"
     ]
    },
    {
     "name": "stderr",
     "output_type": "stream",
     "text": [
      "C:\\Users\\rohan\\Anaconda3\\lib\\site-packages\\ipykernel_launcher.py:5: UserWarning: Update your `Dense` call to the Keras 2 API: `Dense(activation=\"relu\", input_dim=10, units=9)`\n",
      "  \"\"\"\n",
      "C:\\Users\\rohan\\Anaconda3\\lib\\site-packages\\ipykernel_launcher.py:11: UserWarning: Update your `Dense` call to the Keras 2 API: `Dense(activation=\"relu\", units=50)`\n",
      "  # This is added back by InteractiveShellApp.init_path()\n",
      "C:\\Users\\rohan\\Anaconda3\\lib\\site-packages\\ipykernel_launcher.py:14: UserWarning: Update your `Dense` call to the Keras 2 API: `Dense(activation=\"sigmoid\", units=1)`\n",
      "  \n"
     ]
    },
    {
     "name": "stdout",
     "output_type": "stream",
     "text": [
      "\n",
      "_________________________________________________________________\n",
      "None\n"
     ]
    }
   ],
   "source": [
    "classifier = Sequential()\n",
    "\n",
    "classifier.add(Dense(output_dim=9, \n",
    "                     activation='relu', \n",
    "                     input_dim=10))\n",
    "\n",
    "# classifier.add(Dense(output_dim=100, \n",
    "#                      activation='relu'))\n",
    "\n",
    "classifier.add(Dense(output_dim=50, \n",
    "                     activation='relu'))\n",
    "\n",
    "classifier.add(Dense(output_dim=1, \n",
    "                     activation='sigmoid'))\n",
    "\n",
    "adam = optimizers.Adam(lr=0.001, beta_1=0.9, beta_2=0.999, amsgrad=False)\n",
    "\n",
    "classifier.compile(optimizer=adam , loss='binary_crossentropy', metrics=['accuracy'])\n",
    "\n",
    "print(classifier.summary())\n",
    "plot_model(classifier, to_file='Classifier 2 - Model Plot.png', show_shapes=True, show_layer_names=True)"
   ]
  },
  {
   "cell_type": "code",
   "execution_count": 5,
   "metadata": {},
   "outputs": [
    {
     "name": "stdout",
     "output_type": "stream",
     "text": [
      "WARNING:tensorflow:From C:\\Users\\rohan\\Anaconda3\\lib\\site-packages\\keras\\backend\\tensorflow_backend.py:986: The name tf.assign_add is deprecated. Please use tf.compat.v1.assign_add instead.\n",
      "\n",
      "WARNING:tensorflow:From C:\\Users\\rohan\\Anaconda3\\lib\\site-packages\\keras\\backend\\tensorflow_backend.py:973: The name tf.assign is deprecated. Please use tf.compat.v1.assign instead.\n",
      "\n",
      "WARNING:tensorflow:From C:\\Users\\rohan\\Anaconda3\\lib\\site-packages\\keras\\backend\\tensorflow_backend.py:2741: The name tf.Session is deprecated. Please use tf.compat.v1.Session instead.\n",
      "\n",
      "Train on 405 samples, validate on 46 samples\n",
      "Epoch 1/50\n",
      "WARNING:tensorflow:From C:\\Users\\rohan\\Anaconda3\\lib\\site-packages\\keras\\backend\\tensorflow_backend.py:174: The name tf.get_default_session is deprecated. Please use tf.compat.v1.get_default_session instead.\n",
      "\n",
      "WARNING:tensorflow:From C:\\Users\\rohan\\Anaconda3\\lib\\site-packages\\keras\\backend\\tensorflow_backend.py:181: The name tf.ConfigProto is deprecated. Please use tf.compat.v1.ConfigProto instead.\n",
      "\n",
      "WARNING:tensorflow:From C:\\Users\\rohan\\Anaconda3\\lib\\site-packages\\keras\\backend\\tensorflow_backend.py:190: The name tf.global_variables is deprecated. Please use tf.compat.v1.global_variables instead.\n",
      "\n",
      "WARNING:tensorflow:From C:\\Users\\rohan\\Anaconda3\\lib\\site-packages\\keras\\backend\\tensorflow_backend.py:199: The name tf.is_variable_initialized is deprecated. Please use tf.compat.v1.is_variable_initialized instead.\n",
      "\n",
      "WARNING:tensorflow:From C:\\Users\\rohan\\Anaconda3\\lib\\site-packages\\keras\\backend\\tensorflow_backend.py:206: The name tf.variables_initializer is deprecated. Please use tf.compat.v1.variables_initializer instead.\n",
      "\n",
      "405/405 [==============================] - 4s 11ms/step - loss: 0.6679 - acc: 0.6173 - val_loss: 0.6339 - val_acc: 0.6957\n",
      "Epoch 2/50\n",
      "405/405 [==============================] - 0s 255us/step - loss: 0.6099 - acc: 0.7062 - val_loss: 0.5889 - val_acc: 0.7174\n",
      "Epoch 3/50\n",
      "405/405 [==============================] - 0s 245us/step - loss: 0.5740 - acc: 0.7062 - val_loss: 0.5522 - val_acc: 0.7174\n",
      "Epoch 4/50\n",
      "405/405 [==============================] - 0s 251us/step - loss: 0.5480 - acc: 0.7062 - val_loss: 0.5193 - val_acc: 0.7174\n",
      "Epoch 5/50\n",
      "405/405 [==============================] - 0s 250us/step - loss: 0.5264 - acc: 0.7086 - val_loss: 0.4873 - val_acc: 0.7174\n",
      "Epoch 6/50\n",
      "405/405 [==============================] - 0s 251us/step - loss: 0.5088 - acc: 0.7136 - val_loss: 0.4615 - val_acc: 0.7391\n",
      "Epoch 7/50\n",
      "405/405 [==============================] - 0s 246us/step - loss: 0.4950 - acc: 0.7136 - val_loss: 0.4408 - val_acc: 0.7391\n",
      "Epoch 8/50\n",
      "405/405 [==============================] - 0s 251us/step - loss: 0.4816 - acc: 0.7160 - val_loss: 0.4223 - val_acc: 0.7391\n",
      "Epoch 9/50\n",
      "405/405 [==============================] - 0s 251us/step - loss: 0.4710 - acc: 0.7185 - val_loss: 0.4059 - val_acc: 0.7391\n",
      "Epoch 10/50\n",
      "405/405 [==============================] - 0s 245us/step - loss: 0.4616 - acc: 0.7185 - val_loss: 0.3914 - val_acc: 0.7391\n",
      "Epoch 11/50\n",
      "405/405 [==============================] - 0s 240us/step - loss: 0.4527 - acc: 0.7160 - val_loss: 0.3781 - val_acc: 0.7826\n",
      "Epoch 12/50\n",
      "405/405 [==============================] - 0s 253us/step - loss: 0.4450 - acc: 0.7605 - val_loss: 0.3655 - val_acc: 0.8043\n",
      "Epoch 13/50\n",
      "405/405 [==============================] - 0s 248us/step - loss: 0.4371 - acc: 0.7531 - val_loss: 0.3523 - val_acc: 0.8043\n",
      "Epoch 14/50\n",
      "405/405 [==============================] - 0s 250us/step - loss: 0.4303 - acc: 0.7679 - val_loss: 0.3398 - val_acc: 0.8261\n",
      "Epoch 15/50\n",
      "405/405 [==============================] - 0s 238us/step - loss: 0.4230 - acc: 0.7704 - val_loss: 0.3293 - val_acc: 0.8478\n",
      "Epoch 16/50\n",
      "405/405 [==============================] - 0s 263us/step - loss: 0.4162 - acc: 0.7753 - val_loss: 0.3223 - val_acc: 0.8696\n",
      "Epoch 17/50\n",
      "405/405 [==============================] - 0s 289us/step - loss: 0.4106 - acc: 0.7802 - val_loss: 0.3118 - val_acc: 0.8696\n",
      "Epoch 18/50\n",
      "405/405 [==============================] - 0s 384us/step - loss: 0.4040 - acc: 0.7802 - val_loss: 0.3028 - val_acc: 0.8696\n",
      "Epoch 19/50\n",
      "405/405 [==============================] - 0s 213us/step - loss: 0.3999 - acc: 0.7877 - val_loss: 0.2956 - val_acc: 0.8478\n",
      "Epoch 20/50\n",
      "405/405 [==============================] - 0s 395us/step - loss: 0.3942 - acc: 0.7877 - val_loss: 0.2849 - val_acc: 0.8478\n",
      "Epoch 21/50\n",
      "405/405 [==============================] - 0s 378us/step - loss: 0.3890 - acc: 0.7877 - val_loss: 0.2775 - val_acc: 0.8913\n",
      "Epoch 22/50\n",
      "405/405 [==============================] - 0s 384us/step - loss: 0.3845 - acc: 0.7901 - val_loss: 0.2708 - val_acc: 0.8913\n",
      "Epoch 23/50\n",
      "405/405 [==============================] - 0s 378us/step - loss: 0.3814 - acc: 0.7975 - val_loss: 0.2681 - val_acc: 0.8913\n",
      "Epoch 24/50\n",
      "405/405 [==============================] - 0s 242us/step - loss: 0.3772 - acc: 0.8099 - val_loss: 0.2622 - val_acc: 0.8913\n",
      "Epoch 25/50\n",
      "405/405 [==============================] - 0s 352us/step - loss: 0.3738 - acc: 0.8148 - val_loss: 0.2545 - val_acc: 0.8913\n",
      "Epoch 26/50\n",
      "405/405 [==============================] - 0s 380us/step - loss: 0.3714 - acc: 0.8173 - val_loss: 0.2491 - val_acc: 0.9130\n",
      "Epoch 27/50\n",
      "405/405 [==============================] - 0s 201us/step - loss: 0.3694 - acc: 0.8148 - val_loss: 0.2470 - val_acc: 0.8913\n",
      "Epoch 28/50\n",
      "405/405 [==============================] - 0s 256us/step - loss: 0.3664 - acc: 0.8198 - val_loss: 0.2442 - val_acc: 0.8913\n",
      "Epoch 29/50\n",
      "405/405 [==============================] - 0s 389us/step - loss: 0.3640 - acc: 0.8247 - val_loss: 0.2442 - val_acc: 0.8913\n",
      "Epoch 30/50\n",
      "405/405 [==============================] - 0s 393us/step - loss: 0.3617 - acc: 0.8272 - val_loss: 0.2380 - val_acc: 0.9130\n",
      "Epoch 31/50\n",
      "405/405 [==============================] - 0s 386us/step - loss: 0.3607 - acc: 0.8247 - val_loss: 0.2387 - val_acc: 0.8913\n",
      "Epoch 32/50\n",
      "405/405 [==============================] - 0s 387us/step - loss: 0.3589 - acc: 0.8272 - val_loss: 0.2359 - val_acc: 0.8913\n",
      "Epoch 33/50\n",
      "405/405 [==============================] - 0s 401us/step - loss: 0.3568 - acc: 0.8247 - val_loss: 0.2347 - val_acc: 0.8913\n",
      "Epoch 34/50\n",
      "405/405 [==============================] - 0s 386us/step - loss: 0.3571 - acc: 0.8198 - val_loss: 0.2298 - val_acc: 0.9130\n",
      "Epoch 35/50\n",
      "405/405 [==============================] - 0s 394us/step - loss: 0.3547 - acc: 0.8222 - val_loss: 0.2284 - val_acc: 0.9130\n",
      "Epoch 36/50\n",
      "405/405 [==============================] - 0s 403us/step - loss: 0.3529 - acc: 0.8198 - val_loss: 0.2310 - val_acc: 0.8913\n",
      "Epoch 37/50\n",
      "405/405 [==============================] - 0s 413us/step - loss: 0.3523 - acc: 0.8173 - val_loss: 0.2305 - val_acc: 0.9130\n",
      "Epoch 38/50\n",
      "405/405 [==============================] - 0s 441us/step - loss: 0.3509 - acc: 0.8247 - val_loss: 0.2254 - val_acc: 0.9130\n",
      "Epoch 39/50\n",
      "405/405 [==============================] - 0s 434us/step - loss: 0.3499 - acc: 0.8222 - val_loss: 0.2238 - val_acc: 0.9130\n",
      "Epoch 40/50\n",
      "405/405 [==============================] - 0s 440us/step - loss: 0.3482 - acc: 0.8198 - val_loss: 0.2230 - val_acc: 0.9130\n",
      "Epoch 41/50\n",
      "405/405 [==============================] - 0s 437us/step - loss: 0.3470 - acc: 0.8247 - val_loss: 0.2247 - val_acc: 0.9130\n",
      "Epoch 42/50\n",
      "405/405 [==============================] - 0s 423us/step - loss: 0.3469 - acc: 0.8247 - val_loss: 0.2211 - val_acc: 0.9130\n",
      "Epoch 43/50\n",
      "405/405 [==============================] - 0s 415us/step - loss: 0.3449 - acc: 0.8198 - val_loss: 0.2208 - val_acc: 0.9130\n",
      "Epoch 44/50\n",
      "405/405 [==============================] - 0s 437us/step - loss: 0.3443 - acc: 0.8222 - val_loss: 0.2203 - val_acc: 0.9130\n",
      "Epoch 45/50\n",
      "405/405 [==============================] - 0s 426us/step - loss: 0.3425 - acc: 0.8247 - val_loss: 0.2189 - val_acc: 0.9130\n",
      "Epoch 46/50\n",
      "405/405 [==============================] - 0s 431us/step - loss: 0.3417 - acc: 0.8222 - val_loss: 0.2197 - val_acc: 0.9130\n",
      "Epoch 47/50\n",
      "405/405 [==============================] - 0s 411us/step - loss: 0.3407 - acc: 0.8272 - val_loss: 0.2197 - val_acc: 0.9130\n",
      "Epoch 48/50\n",
      "405/405 [==============================] - 0s 384us/step - loss: 0.3408 - acc: 0.8272 - val_loss: 0.2187 - val_acc: 0.9130\n",
      "Epoch 49/50\n"
     ]
    },
    {
     "name": "stdout",
     "output_type": "stream",
     "text": [
      "405/405 [==============================] - 0s 401us/step - loss: 0.3387 - acc: 0.8296 - val_loss: 0.2158 - val_acc: 0.9130\n",
      "Epoch 50/50\n",
      "405/405 [==============================] - 0s 385us/step - loss: 0.3387 - acc: 0.8296 - val_loss: 0.2164 - val_acc: 0.9130\n"
     ]
    }
   ],
   "source": [
    "history = classifier.fit(features_train, labels_train, validation_data = [features_test,labels_test], batch_size=30, epochs=50)"
   ]
  },
  {
   "cell_type": "code",
   "execution_count": 6,
   "metadata": {},
   "outputs": [
    {
     "name": "stdout",
     "output_type": "stream",
     "text": [
      "(518, 10)\n",
      "(518,)\n"
     ]
    }
   ],
   "source": [
    "validation_set = pd.read_csv(\"test.csv\")\n",
    "\n",
    "validation_features = validation_set.iloc[:, 5:15].values\n",
    "print(validation_features.shape)\n",
    "\n",
    "validation_labels = validation_set.iloc[:, 15].values\n",
    "print(validation_labels.shape)"
   ]
  },
  {
   "cell_type": "code",
   "execution_count": 7,
   "metadata": {},
   "outputs": [],
   "source": [
    "validation_features = sc.fit_transform(validation_features)\n",
    "pred = classifier.predict(validation_features)\n",
    "pred = (pred > 0.5).astype(int)\n"
   ]
  },
  {
   "cell_type": "code",
   "execution_count": 8,
   "metadata": {},
   "outputs": [
    {
     "name": "stdout",
     "output_type": "stream",
     "text": [
      "              precision    recall  f1-score   support\n",
      "\n",
      "           0       0.79      0.73      0.76       200\n",
      "           1       0.84      0.88      0.86       318\n",
      "\n",
      "    accuracy                           0.82       518\n",
      "   macro avg       0.81      0.80      0.81       518\n",
      "weighted avg       0.82      0.82      0.82       518\n",
      "\n"
     ]
    }
   ],
   "source": [
    "print(classification_report(validation_labels, pred))"
   ]
  },
  {
   "cell_type": "code",
   "execution_count": 9,
   "metadata": {},
   "outputs": [
    {
     "name": "stdout",
     "output_type": "stream",
     "text": [
      "[[146  54]\n",
      " [ 39 279]]\n"
     ]
    }
   ],
   "source": [
    "print(confusion_matrix(validation_labels, pred))"
   ]
  },
  {
   "cell_type": "code",
   "execution_count": 10,
   "metadata": {},
   "outputs": [
    {
     "data": {
      "image/png": "[encoded data removed]",
      "text/plain": [
       "<Figure size 432x288 with 1 Axes>"
      ]
     },
     "metadata": {
      "needs_background": "light"
     },
     "output_type": "display_data"
    }
   ],
   "source": [
    "plt.plot(history.history['loss'])\n",
    "plt.plot(history.history['val_loss'])\n",
    "plt.title('Loss Value Plot')\n",
    "plt.ylabel('Loss')\n",
    "plt.xlabel('Epoch')\n",
    "plt.legend(['Training', 'Validation '], loc='upper right')\n",
    "plt.savefig(\"Classifier 2 - Loss Plot.png\")\n",
    "plt.show()\n"
   ]
  },
  {
   "cell_type": "code",
   "execution_count": 11,
   "metadata": {},
   "outputs": [
    {
     "data": {
      "image/png": "[encoded data removed]",
      "text/plain": [
       "<Figure size 432x288 with 1 Axes>"
      ]
     },
     "metadata": {
      "needs_background": "light"
     },
     "output_type": "display_data"
    }
   ],
   "source": [
    "plt.plot(history.history['acc'])\n",
    "plt.plot(history.history['val_acc'])\n",
    "plt.title('Accuracy Plot')\n",
    "plt.ylabel('Accuracy')\n",
    "plt.xlabel('Epoch')\n",
    "plt.legend(['Training', 'Validation '], loc='upper right')\n",
    "plt.savefig(\"Classifier 2 - Accuracy Plot.png\")\n",
    "plt.show()\n"
   ]
  }
 ],
 "metadata": {
  "kernelspec": {
   "display_name": "Python 3",
   "language": "python",
   "name": "python3"
  },
  "language_info": {
   "codemirror_mode": {
    "name": "ipython",
    "version": 3
   },
   "file_extension": ".py",
   "mimetype": "text/x-python",
   "name": "python",
   "nbconvert_exporter": "python",
   "pygments_lexer": "ipython3",
   "version": "3.7.3"
  }
 },
 "nbformat": 4,
 "nbformat_minor": 2
}
