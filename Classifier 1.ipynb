{
 "cells": [
  {
   "cell_type": "code",
   "execution_count": 1,
   "metadata": {},
   "outputs": [
    {
     "name": "stderr",
     "output_type": "stream",
     "text": [
      "Using TensorFlow backend.\n"
     ]
    }
   ],
   "source": [
    "import numpy as np\n",
    "import matplotlib.pyplot as plt\n",
    "import random\n",
    "from random import seed\n",
    "import pandas as pd\n",
    "\n",
    "\n",
    "from sklearn.preprocessing import LabelEncoder, OneHotEncoder\n",
    "from sklearn.model_selection import train_test_split\n",
    "from sklearn.preprocessing import StandardScaler\n",
    "from sklearn.preprocessing import MinMaxScaler\n",
    "\n",
    "from keras.models import Sequential\n",
    "from keras.layers import Dense\n",
    "import keras_metrics as k\n",
    "from keras import optimizers\n",
    "\n",
    "from keras.utils.vis_utils import plot_model\n",
    "from sklearn.metrics import confusion_matrix, classification_report"
   ]
  },
  {
   "cell_type": "code",
   "execution_count": 2,
   "metadata": {},
   "outputs": [
    {
     "name": "stdout",
     "output_type": "stream",
     "text": [
      "(576, 11)\n",
      "(576,)\n"
     ]
    }
   ],
   "source": [
    "dataset = pd.read_csv(\"Insta Data/train1.csv\")\n",
    "\n",
    "features = dataset.iloc[:, 0:11].values\n",
    "print(features.shape)\n",
    "\n",
    "labels = dataset.iloc[:, 11].values\n",
    "print(labels.shape)\n",
    "#print(labels)"
   ]
  },
  {
   "cell_type": "code",
   "execution_count": 3,
   "metadata": {},
   "outputs": [
    {
     "name": "stdout",
     "output_type": "stream",
     "text": [
      "(460, 11)\n",
      "[[1.00000000e+00 0.00000000e+00 1.66666667e-01 ... 1.32629585e-01\n",
      "  4.47891448e-05 2.02266667e-01]\n",
      " [1.00000000e+00 0.00000000e+00 2.50000000e-01 ... 9.47354175e-04\n",
      "  1.67551823e-05 4.61333333e-02]\n",
      " [0.00000000e+00 2.39130435e-01 8.33333333e-02 ... 0.00000000e+00\n",
      "  3.25976309e-07 7.46666667e-03]\n",
      " ...\n",
      " [0.00000000e+00 1.63043478e-01 1.66666667e-01 ... 1.35336311e-04\n",
      "  8.47538403e-07 2.93333333e-03]\n",
      " [1.00000000e+00 1.19565217e-01 3.33333333e-01 ... 2.16538097e-03\n",
      "  4.81141032e-05 7.25333333e-02]\n",
      " [0.00000000e+00 5.43478261e-01 8.33333333e-02 ... 0.00000000e+00\n",
      "  6.51952618e-07 2.66666667e-04]]\n",
      "[[0.00000000e+00 3.58695652e-01 8.33333333e-02 ... 0.00000000e+00\n",
      "  1.49949102e-06 5.33333333e-03]\n",
      " [1.00000000e+00 0.00000000e+00 8.33333333e-02 ... 1.00148870e-02\n",
      "  8.93175086e-06 1.28000000e-02]\n",
      " [1.00000000e+00 0.00000000e+00 1.66666667e-01 ... 4.33076194e-03\n",
      "  2.47741995e-04 3.70666667e-02]\n",
      " ...\n",
      " [1.00000000e+00 0.00000000e+00 1.66666667e-01 ... 1.08269049e-03\n",
      "  4.89616416e-05 1.63066667e-01]\n",
      " [1.00000000e+00 0.00000000e+00 8.33333333e-02 ... 1.62403573e-03\n",
      "  2.01453359e-05 4.85333333e-02]\n",
      " [1.00000000e+00 0.00000000e+00 1.66666667e-01 ... 9.44647449e-02\n",
      "  1.25566074e-04 1.88000000e-01]]\n"
     ]
    }
   ],
   "source": [
    "features_train, features_test, labels_train, labels_test = train_test_split(features, labels, test_size=0.2, random_state= 345, shuffle = True)\n",
    "print(features_train.shape)\n",
    "\n",
    "sc = MinMaxScaler()\n",
    "features_train = sc.fit_transform(features_train)\n",
    "features_test = sc.transform(features_test)\n",
    "\n",
    "print(features_train)\n",
    "print(features_test)"
   ]
  },
  {
   "cell_type": "code",
   "execution_count": 4,
   "metadata": {},
   "outputs": [
    {
     "name": "stdout",
     "output_type": "stream",
     "text": [
      "WARNING:tensorflow:From C:\\Users\\rohan\\Anaconda3\\lib\\site-packages\\keras\\backend\\tensorflow_backend.py:74: The name tf.get_default_graph is deprecated. Please use tf.compat.v1.get_default_graph instead.\n",
      "\n",
      "WARNING:tensorflow:From C:\\Users\\rohan\\Anaconda3\\lib\\site-packages\\keras\\backend\\tensorflow_backend.py:517: The name tf.placeholder is deprecated. Please use tf.compat.v1.placeholder instead.\n",
      "\n",
      "WARNING:tensorflow:From C:\\Users\\rohan\\Anaconda3\\lib\\site-packages\\keras\\backend\\tensorflow_backend.py:4138: The name tf.random_uniform is deprecated. Please use tf.random.uniform instead.\n",
      "\n",
      "WARNING:tensorflow:From C:\\Users\\rohan\\Anaconda3\\lib\\site-packages\\keras\\optimizers.py:790: The name tf.train.Optimizer is deprecated. Please use tf.compat.v1.train.Optimizer instead.\n",
      "\n",
      "WARNING:tensorflow:From C:\\Users\\rohan\\Anaconda3\\lib\\site-packages\\keras\\backend\\tensorflow_backend.py:3376: The name tf.log is deprecated. Please use tf.math.log instead.\n",
      "\n"
     ]
    },
    {
     "name": "stderr",
     "output_type": "stream",
     "text": [
      "C:\\Users\\rohan\\Anaconda3\\lib\\site-packages\\ipykernel_launcher.py:4: UserWarning: Update your `Dense` call to the Keras 2 API: `Dense(activation=\"relu\", input_dim=11, units=10)`\n",
      "  after removing the cwd from sys.path.\n",
      "C:\\Users\\rohan\\Anaconda3\\lib\\site-packages\\ipykernel_launcher.py:7: UserWarning: Update your `Dense` call to the Keras 2 API: `Dense(activation=\"relu\", units=50)`\n",
      "  import sys\n",
      "C:\\Users\\rohan\\Anaconda3\\lib\\site-packages\\ipykernel_launcher.py:10: UserWarning: Update your `Dense` call to the Keras 2 API: `Dense(activation=\"sigmoid\", units=1)`\n",
      "  # Remove the CWD from sys.path while we load stuff.\n"
     ]
    },
    {
     "name": "stdout",
     "output_type": "stream",
     "text": [
      "WARNING:tensorflow:From C:\\Users\\rohan\\Anaconda3\\lib\\site-packages\\tensorflow_core\\python\\ops\\nn_impl.py:183: where (from tensorflow.python.ops.array_ops) is deprecated and will be removed in a future version.\n",
      "Instructions for updating:\n",
      "Use tf.where in 2.0, which has the same broadcast rule as np.where\n",
      "_________________________________________________________________\n",
      "Layer (type)                 Output Shape              Param #   \n",
      "=================================================================\n",
      "dense_1 (Dense)              (None, 10)                120       \n",
      "_________________________________________________________________\n",
      "dense_2 (Dense)              (None, 50)                550       \n",
      "_________________________________________________________________\n",
      "dense_3 (Dense)              (None, 1)                 51        \n",
      "=================================================================\n",
      "Total params: 721\n",
      "Trainable params: 721\n",
      "Non-trainable params: 0\n",
      "_________________________________________________________________\n",
      "None\n"
     ]
    }
   ],
   "source": [
    "classifier = Sequential()\n",
    "classifier.add(Dense(output_dim=10, \n",
    "                     activation='relu', \n",
    "                     input_dim=11))\n",
    "\n",
    "classifier.add(Dense(output_dim=50, \n",
    "                     activation='relu'))\n",
    "\n",
    "classifier.add(Dense(output_dim=1, \n",
    "                     activation='sigmoid'))\n",
    "\n",
    "adam = optimizers.Adam(lr=0.02, beta_1=0.9, beta_2=0.999, amsgrad=False)\n",
    "\n",
    "\n",
    "classifier.compile(optimizer='adam' , loss='binary_crossentropy', metrics=['accuracy'])\n",
    "\n",
    "print(classifier.summary())\n",
    "plot_model(classifier, to_file='Classifier1_model_plot.png', show_shapes=True, show_layer_names=True)"
   ]
  },
  {
   "cell_type": "code",
   "execution_count": 5,
   "metadata": {},
   "outputs": [
    {
     "name": "stdout",
     "output_type": "stream",
     "text": [
      "WARNING:tensorflow:From C:\\Users\\rohan\\Anaconda3\\lib\\site-packages\\keras\\backend\\tensorflow_backend.py:986: The name tf.assign_add is deprecated. Please use tf.compat.v1.assign_add instead.\n",
      "\n",
      "WARNING:tensorflow:From C:\\Users\\rohan\\Anaconda3\\lib\\site-packages\\keras\\backend\\tensorflow_backend.py:973: The name tf.assign is deprecated. Please use tf.compat.v1.assign instead.\n",
      "\n",
      "WARNING:tensorflow:From C:\\Users\\rohan\\Anaconda3\\lib\\site-packages\\keras\\backend\\tensorflow_backend.py:2741: The name tf.Session is deprecated. Please use tf.compat.v1.Session instead.\n",
      "\n",
      "Train on 460 samples, validate on 116 samples\n",
      "Epoch 1/50\n",
      "WARNING:tensorflow:From C:\\Users\\rohan\\Anaconda3\\lib\\site-packages\\keras\\backend\\tensorflow_backend.py:174: The name tf.get_default_session is deprecated. Please use tf.compat.v1.get_default_session instead.\n",
      "\n",
      "WARNING:tensorflow:From C:\\Users\\rohan\\Anaconda3\\lib\\site-packages\\keras\\backend\\tensorflow_backend.py:181: The name tf.ConfigProto is deprecated. Please use tf.compat.v1.ConfigProto instead.\n",
      "\n",
      "WARNING:tensorflow:From C:\\Users\\rohan\\Anaconda3\\lib\\site-packages\\keras\\backend\\tensorflow_backend.py:190: The name tf.global_variables is deprecated. Please use tf.compat.v1.global_variables instead.\n",
      "\n",
      "WARNING:tensorflow:From C:\\Users\\rohan\\Anaconda3\\lib\\site-packages\\keras\\backend\\tensorflow_backend.py:199: The name tf.is_variable_initialized is deprecated. Please use tf.compat.v1.is_variable_initialized instead.\n",
      "\n",
      "WARNING:tensorflow:From C:\\Users\\rohan\\Anaconda3\\lib\\site-packages\\keras\\backend\\tensorflow_backend.py:206: The name tf.variables_initializer is deprecated. Please use tf.compat.v1.variables_initializer instead.\n",
      "\n",
      "460/460 [==============================] - 10s 22ms/step - loss: 0.6908 - acc: 0.6565 - val_loss: 0.6668 - val_acc: 0.7672\n",
      "Epoch 2/50\n",
      "460/460 [==============================] - 0s 454us/step - loss: 0.6372 - acc: 0.7870 - val_loss: 0.6196 - val_acc: 0.7672\n",
      "Epoch 3/50\n",
      "460/460 [==============================] - 0s 452us/step - loss: 0.5802 - acc: 0.8065 - val_loss: 0.5722 - val_acc: 0.7672\n",
      "Epoch 4/50\n",
      "460/460 [==============================] - 0s 454us/step - loss: 0.5127 - acc: 0.8196 - val_loss: 0.5150 - val_acc: 0.7931\n",
      "Epoch 5/50\n",
      "460/460 [==============================] - 0s 645us/step - loss: 0.4364 - acc: 0.8739 - val_loss: 0.4661 - val_acc: 0.8276\n",
      "Epoch 6/50\n",
      "460/460 [==============================] - 0s 763us/step - loss: 0.3662 - acc: 0.8848 - val_loss: 0.4264 - val_acc: 0.8621\n",
      "Epoch 7/50\n",
      "460/460 [==============================] - 0s 760us/step - loss: 0.3165 - acc: 0.9022 - val_loss: 0.4020 - val_acc: 0.8621\n",
      "Epoch 8/50\n",
      "460/460 [==============================] - 0s 779us/step - loss: 0.2836 - acc: 0.8957 - val_loss: 0.3839 - val_acc: 0.8707\n",
      "Epoch 9/50\n",
      "460/460 [==============================] - 0s 778us/step - loss: 0.2657 - acc: 0.9065 - val_loss: 0.3684 - val_acc: 0.8621\n",
      "Epoch 10/50\n",
      "460/460 [==============================] - 0s 759us/step - loss: 0.2482 - acc: 0.9065 - val_loss: 0.3562 - val_acc: 0.8879\n",
      "Epoch 11/50\n",
      "460/460 [==============================] - 0s 754us/step - loss: 0.2402 - acc: 0.9065 - val_loss: 0.3509 - val_acc: 0.8966\n",
      "Epoch 12/50\n",
      "460/460 [==============================] - 0s 754us/step - loss: 0.2341 - acc: 0.9022 - val_loss: 0.3445 - val_acc: 0.8966\n",
      "Epoch 13/50\n",
      "460/460 [==============================] - 0s 779us/step - loss: 0.2290 - acc: 0.9065 - val_loss: 0.3362 - val_acc: 0.9052\n",
      "Epoch 14/50\n",
      "460/460 [==============================] - 0s 662us/step - loss: 0.2283 - acc: 0.9065 - val_loss: 0.3341 - val_acc: 0.8966\n",
      "Epoch 15/50\n",
      "460/460 [==============================] - 0s 755us/step - loss: 0.2248 - acc: 0.9043 - val_loss: 0.3284 - val_acc: 0.9052\n",
      "Epoch 16/50\n",
      "460/460 [==============================] - 0s 680us/step - loss: 0.2217 - acc: 0.9043 - val_loss: 0.3285 - val_acc: 0.9052\n",
      "Epoch 17/50\n",
      "460/460 [==============================] - 0s 788us/step - loss: 0.2228 - acc: 0.9065 - val_loss: 0.3270 - val_acc: 0.8966\n",
      "Epoch 18/50\n",
      "460/460 [==============================] - 0s 722us/step - loss: 0.2205 - acc: 0.9022 - val_loss: 0.3239 - val_acc: 0.9052\n",
      "Epoch 19/50\n",
      "460/460 [==============================] - 0s 683us/step - loss: 0.2181 - acc: 0.9022 - val_loss: 0.3222 - val_acc: 0.8966\n",
      "Epoch 20/50\n",
      "460/460 [==============================] - 0s 756us/step - loss: 0.2174 - acc: 0.9065 - val_loss: 0.3216 - val_acc: 0.8966\n",
      "Epoch 21/50\n",
      "460/460 [==============================] - 0s 759us/step - loss: 0.2183 - acc: 0.9043 - val_loss: 0.3176 - val_acc: 0.8966\n",
      "Epoch 22/50\n",
      "460/460 [==============================] - 0s 758us/step - loss: 0.2170 - acc: 0.9087 - val_loss: 0.3211 - val_acc: 0.9052\n",
      "Epoch 23/50\n",
      "460/460 [==============================] - 0s 764us/step - loss: 0.2171 - acc: 0.9065 - val_loss: 0.3180 - val_acc: 0.8966\n",
      "Epoch 24/50\n",
      "460/460 [==============================] - 0s 766us/step - loss: 0.2134 - acc: 0.9087 - val_loss: 0.3162 - val_acc: 0.8966\n",
      "Epoch 25/50\n",
      "460/460 [==============================] - 0s 769us/step - loss: 0.2128 - acc: 0.9022 - val_loss: 0.3148 - val_acc: 0.8966\n",
      "Epoch 26/50\n",
      "460/460 [==============================] - 0s 769us/step - loss: 0.2128 - acc: 0.9065 - val_loss: 0.3153 - val_acc: 0.8966\n",
      "Epoch 27/50\n",
      "460/460 [==============================] - 0s 756us/step - loss: 0.2123 - acc: 0.9065 - val_loss: 0.3127 - val_acc: 0.8966\n",
      "Epoch 28/50\n",
      "460/460 [==============================] - 0s 753us/step - loss: 0.2143 - acc: 0.9065 - val_loss: 0.3158 - val_acc: 0.9052\n",
      "Epoch 29/50\n",
      "460/460 [==============================] - 0s 759us/step - loss: 0.2090 - acc: 0.9109 - val_loss: 0.3116 - val_acc: 0.8966\n",
      "Epoch 30/50\n",
      "460/460 [==============================] - 0s 773us/step - loss: 0.2089 - acc: 0.9109 - val_loss: 0.3095 - val_acc: 0.8966\n",
      "Epoch 31/50\n",
      "460/460 [==============================] - 0s 778us/step - loss: 0.2099 - acc: 0.9130 - val_loss: 0.3099 - val_acc: 0.9052\n",
      "Epoch 32/50\n",
      "460/460 [==============================] - 0s 680us/step - loss: 0.2096 - acc: 0.9043 - val_loss: 0.3095 - val_acc: 0.9052\n",
      "Epoch 33/50\n",
      "460/460 [==============================] - 0s 764us/step - loss: 0.2072 - acc: 0.9087 - val_loss: 0.3053 - val_acc: 0.9052\n",
      "Epoch 34/50\n",
      "460/460 [==============================] - 0s 585us/step - loss: 0.2059 - acc: 0.9087 - val_loss: 0.3081 - val_acc: 0.9052\n",
      "Epoch 35/50\n",
      "460/460 [==============================] - 0s 756us/step - loss: 0.2058 - acc: 0.9043 - val_loss: 0.3063 - val_acc: 0.8966\n",
      "Epoch 36/50\n",
      "460/460 [==============================] - 0s 765us/step - loss: 0.2047 - acc: 0.9109 - val_loss: 0.3058 - val_acc: 0.9052\n",
      "Epoch 37/50\n",
      "460/460 [==============================] - 0s 509us/step - loss: 0.2044 - acc: 0.9022 - val_loss: 0.3043 - val_acc: 0.9052\n",
      "Epoch 38/50\n",
      "460/460 [==============================] - 0s 673us/step - loss: 0.2031 - acc: 0.9065 - val_loss: 0.3085 - val_acc: 0.9052\n",
      "Epoch 39/50\n",
      "460/460 [==============================] - 0s 667us/step - loss: 0.2058 - acc: 0.9087 - val_loss: 0.3052 - val_acc: 0.9052\n",
      "Epoch 40/50\n",
      "460/460 [==============================] - 0s 772us/step - loss: 0.2046 - acc: 0.9043 - val_loss: 0.3042 - val_acc: 0.9052\n",
      "Epoch 41/50\n",
      "460/460 [==============================] - 0s 614us/step - loss: 0.2015 - acc: 0.9109 - val_loss: 0.3041 - val_acc: 0.9052\n",
      "Epoch 42/50\n",
      "460/460 [==============================] - 0s 714us/step - loss: 0.2014 - acc: 0.9087 - val_loss: 0.3038 - val_acc: 0.9052\n",
      "Epoch 43/50\n",
      "460/460 [==============================] - 0s 722us/step - loss: 0.2049 - acc: 0.9130 - val_loss: 0.3034 - val_acc: 0.9052\n",
      "Epoch 44/50\n",
      "460/460 [==============================] - 0s 719us/step - loss: 0.2011 - acc: 0.9043 - val_loss: 0.3034 - val_acc: 0.9052\n",
      "Epoch 45/50\n",
      "460/460 [==============================] - 0s 741us/step - loss: 0.2030 - acc: 0.9130 - val_loss: 0.3038 - val_acc: 0.9052\n",
      "Epoch 46/50\n",
      "460/460 [==============================] - 0s 719us/step - loss: 0.2015 - acc: 0.9087 - val_loss: 0.3026 - val_acc: 0.9052\n",
      "Epoch 47/50\n",
      "460/460 [==============================] - 0s 747us/step - loss: 0.2002 - acc: 0.9109 - val_loss: 0.3028 - val_acc: 0.9052\n",
      "Epoch 48/50\n",
      "460/460 [==============================] - 0s 566us/step - loss: 0.1981 - acc: 0.9109 - val_loss: 0.3015 - val_acc: 0.9052\n",
      "Epoch 49/50\n"
     ]
    },
    {
     "name": "stdout",
     "output_type": "stream",
     "text": [
      "460/460 [==============================] - 0s 742us/step - loss: 0.1985 - acc: 0.9130 - val_loss: 0.3025 - val_acc: 0.9052\n",
      "Epoch 50/50\n",
      "460/460 [==============================] - 0s 759us/step - loss: 0.1967 - acc: 0.9152 - val_loss: 0.3012 - val_acc: 0.9052\n"
     ]
    }
   ],
   "source": [
    "history = classifier.fit(features_train, labels_train, validation_data=(features_test,labels_test),batch_size=16, epochs=50)"
   ]
  },
  {
   "cell_type": "code",
   "execution_count": 6,
   "metadata": {},
   "outputs": [
    {
     "name": "stdout",
     "output_type": "stream",
     "text": [
      "(120, 11)\n",
      "(120,)\n"
     ]
    }
   ],
   "source": [
    "validation_set = pd.read_csv(\"Insta Data/test.csv\")\n",
    "\n",
    "validation_features = validation_set.iloc[:, 0:11].values\n",
    "print(validation_features.shape)\n",
    "\n",
    "validation_labels = validation_set.iloc[:, 11].values\n",
    "print(validation_labels.shape)"
   ]
  },
  {
   "cell_type": "code",
   "execution_count": 7,
   "metadata": {},
   "outputs": [
    {
     "name": "stdout",
     "output_type": "stream",
     "text": [
      "[[1.00000000e+00 3.70786517e-01 1.11111111e-01 ... 1.86269292e-02\n",
      "  1.21337437e-04 8.09178744e-02]\n",
      " [1.00000000e+00 0.00000000e+00 5.55555556e-01 ... 1.59659393e-03\n",
      "  8.70248011e-06 6.70960816e-04]\n",
      " [1.00000000e+00 0.00000000e+00 2.22222222e-01 ... 1.69771155e-01\n",
      "  8.15546707e-05 8.95061728e-02]\n",
      " ...\n",
      " [1.00000000e+00 0.00000000e+00 2.22222222e-01 ... 1.59659393e-03\n",
      "  2.07119027e-04 4.79200215e-01]\n",
      " [0.00000000e+00 1.91011236e-01 1.11111111e-01 ... 5.32197978e-04\n",
      "  5.44526612e-05 2.27321524e-01]\n",
      " [1.00000000e+00 4.94382022e-01 1.11111111e-01 ... 1.59659393e-03\n",
      "  9.69704926e-06 8.99087493e-03]]\n"
     ]
    }
   ],
   "source": [
    "validation_features = sc.fit_transform(validation_features)\n",
    "print(validation_features)\n",
    "pred = classifier.predict(validation_features)\n",
    "pred = (pred > 0.5).astype(int)\n"
   ]
  },
  {
   "cell_type": "code",
   "execution_count": 8,
   "metadata": {},
   "outputs": [
    {
     "name": "stdout",
     "output_type": "stream",
     "text": [
      "              precision    recall  f1-score   support\n",
      "\n",
      "           0       0.87      0.92      0.89        60\n",
      "           1       0.91      0.87      0.89        60\n",
      "\n",
      "    accuracy                           0.89       120\n",
      "   macro avg       0.89      0.89      0.89       120\n",
      "weighted avg       0.89      0.89      0.89       120\n",
      "\n"
     ]
    }
   ],
   "source": [
    "print(classification_report(validation_labels, pred))"
   ]
  },
  {
   "cell_type": "code",
   "execution_count": 9,
   "metadata": {},
   "outputs": [
    {
     "name": "stdout",
     "output_type": "stream",
     "text": [
      "[[55  5]\n",
      " [ 8 52]]\n"
     ]
    }
   ],
   "source": [
    "print(confusion_matrix(validation_labels, pred))"
   ]
  },
  {
   "cell_type": "code",
   "execution_count": 10,
   "metadata": {},
   "outputs": [
    {
     "data": {
      "image/png": "[encoded data removed]",
      "text/plain": [
       "<Figure size 432x288 with 1 Axes>"
      ]
     },
     "metadata": {
      "needs_background": "light"
     },
     "output_type": "display_data"
    }
   ],
   "source": [
    "plt.plot(history.history['loss'])\n",
    "plt.plot(history.history['val_loss'])\n",
    "plt.title('Loss Value Plot')\n",
    "plt.ylabel('Loss')\n",
    "plt.xlabel('Epoch')\n",
    "plt.legend(['Training', 'Validation '], loc='upper right')\n",
    "plt.savefig(\"Loss Plot.png\")\n",
    "plt.show()\n"
   ]
  },
  {
   "cell_type": "code",
   "execution_count": 11,
   "metadata": {},
   "outputs": [
    {
     "data": {
      "image/png": "[encoded data removed]",
      "text/plain": [
       "<Figure size 432x288 with 1 Axes>"
      ]
     },
     "metadata": {
      "needs_background": "light"
     },
     "output_type": "display_data"
    }
   ],
   "source": [
    "plt.plot(history.history['acc'])\n",
    "plt.plot(history.history['val_acc'])\n",
    "plt.title('Accuracy Plot')\n",
    "plt.ylabel('Accuracy')\n",
    "plt.xlabel('Epoch')\n",
    "plt.legend(['Training', 'Validation '], loc='upper right')\n",
    "plt.savefig(\"Accuracy Plot.png\")\n",
    "plt.show()\n"
   ]
  },
  {
   "cell_type": "code",
   "execution_count": null,
   "metadata": {},
   "outputs": [],
   "source": []
  }
 ],
 "metadata": {
  "kernelspec": {
   "display_name": "Python 3",
   "language": "python",
   "name": "python3"
  },
  "language_info": {
   "codemirror_mode": {
    "name": "ipython",
    "version": 3
   },
   "file_extension": ".py",
   "mimetype": "text/x-python",
   "name": "python",
   "nbconvert_exporter": "python",
   "pygments_lexer": "ipython3",
   "version": "3.7.3"
  }
 },
 "nbformat": 4,
 "nbformat_minor": 2
}
