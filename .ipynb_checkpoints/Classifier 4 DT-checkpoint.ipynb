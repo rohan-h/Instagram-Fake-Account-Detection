{
 "cells": [
  {
   "cell_type": "code",
   "execution_count": 1,
   "metadata": {},
   "outputs": [
    {
     "name": "stderr",
     "output_type": "stream",
     "text": [
      "Using TensorFlow backend.\n"
     ]
    }
   ],
   "source": [
    "import numpy as np\n",
    "import matplotlib as plt\n",
    "import random\n",
    "from random import seed\n",
    "import pandas as pd\n",
    "\n",
    "\n",
    "from sklearn.model_selection import train_test_split\n",
    "from sklearn.preprocessing import StandardScaler\n",
    "from sklearn.preprocessing import MinMaxScaler\n",
    "from sklearn.tree import DecisionTreeClassifier\n",
    "\n",
    "from keras.models import Sequential\n",
    "from keras.layers import Dense\n",
    "import keras_metrics as k\n",
    "from keras import optimizers\n",
    "\n",
    "from sklearn.metrics import accuracy_score\n",
    "from sklearn.metrics import confusion_matrix, classification_report"
   ]
  },
  {
   "cell_type": "code",
   "execution_count": 2,
   "metadata": {},
   "outputs": [
    {
     "name": "stdout",
     "output_type": "stream",
     "text": [
      "(576, 11)\n",
      "(576,)\n"
     ]
    }
   ],
   "source": [
    "dataset = pd.read_csv(\"Insta Data/train1.csv\")\n",
    "\n",
    "features = dataset.iloc[:, 0:11].values\n",
    "print(features.shape)\n",
    "\n",
    "labels = dataset.iloc[:, 11].values\n",
    "print(labels.shape)\n",
    "#print(labels)"
   ]
  },
  {
   "cell_type": "code",
   "execution_count": 3,
   "metadata": {},
   "outputs": [
    {
     "name": "stdout",
     "output_type": "stream",
     "text": [
      "(460, 11)\n",
      "[[1.00e+00 1.40e-01 2.00e+00 ... 1.00e+01 6.70e+01 9.00e+01]\n",
      " [0.00e+00 4.40e-01 1.00e+00 ... 1.00e+00 1.60e+01 2.70e+01]\n",
      " [1.00e+00 3.80e-01 1.00e+00 ... 0.00e+00 1.10e+01 6.00e+01]\n",
      " ...\n",
      " [0.00e+00 5.00e-01 1.00e+00 ... 5.00e+00 1.80e+01 5.80e+01]\n",
      " [1.00e+00 5.50e-01 1.00e+00 ... 3.30e+01 1.66e+02 5.96e+02]\n",
      " [0.00e+00 0.00e+00 1.00e+00 ... 1.60e+01 2.20e+02 3.23e+02]]\n"
     ]
    }
   ],
   "source": [
    "features_train, features_test, labels_train, labels_test = train_test_split(features, labels, test_size=0.2, random_state= 2255)\n",
    "print(features_train.shape)\n",
    "print(features_train)\n"
   ]
  },
  {
   "cell_type": "code",
   "execution_count": 4,
   "metadata": {},
   "outputs": [
    {
     "data": {
      "text/plain": [
       "DecisionTreeClassifier(class_weight=None, criterion='gini', max_depth=None,\n",
       "                       max_features=None, max_leaf_nodes=None,\n",
       "                       min_impurity_decrease=0.0, min_impurity_split=None,\n",
       "                       min_samples_leaf=1, min_samples_split=50,\n",
       "                       min_weight_fraction_leaf=0.0, presort=False,\n",
       "                       random_state=None, splitter='best')"
      ]
     },
     "execution_count": 4,
     "metadata": {},
     "output_type": "execute_result"
    }
   ],
   "source": [
    "clf = DecisionTreeClassifier(min_samples_split=50)\n",
    "clf.fit(features_train, labels_train)\n"
   ]
  },
  {
   "cell_type": "code",
   "execution_count": 5,
   "metadata": {},
   "outputs": [],
   "source": [
    "y_pred =  clf.predict(features_test)"
   ]
  },
  {
   "cell_type": "code",
   "execution_count": 6,
   "metadata": {},
   "outputs": [
    {
     "name": "stdout",
     "output_type": "stream",
     "text": [
      "Accuracy Score on train data:  0.9260869565217391\n",
      "Accuracy Score on test data:  0.8793103448275862\n"
     ]
    }
   ],
   "source": [
    "print('Accuracy Score on train data: ', accuracy_score(y_true=labels_train, y_pred=clf.predict(features_train)))\n",
    "print('Accuracy Score on test data: ', accuracy_score(y_true=labels_test, y_pred=y_pred))\n"
   ]
  },
  {
   "cell_type": "code",
   "execution_count": 7,
   "metadata": {},
   "outputs": [
    {
     "name": "stdout",
     "output_type": "stream",
     "text": [
      "(120, 11)\n",
      "(120,)\n"
     ]
    }
   ],
   "source": [
    "validation_set = pd.read_csv(\"Insta Data/test.csv\")\n",
    "\n",
    "validation_features = validation_set.iloc[:, 0:11].values\n",
    "print(validation_features.shape)\n",
    "\n",
    "validation_labels = validation_set.iloc[:, 11].values\n",
    "print(validation_labels.shape)"
   ]
  },
  {
   "cell_type": "code",
   "execution_count": 8,
   "metadata": {},
   "outputs": [
    {
     "name": "stdout",
     "output_type": "stream",
     "text": [
      "Accuracy Score on test data:  0.875\n"
     ]
    }
   ],
   "source": [
    "y_pred =  clf.predict(validation_features)\n",
    "print('Accuracy Score on test data: ', accuracy_score(y_true=validation_labels, y_pred=y_pred))"
   ]
  }
 ],
 "metadata": {
  "kernelspec": {
   "display_name": "Python 3",
   "language": "python",
   "name": "python3"
  },
  "language_info": {
   "codemirror_mode": {
    "name": "ipython",
    "version": 3
   },
   "file_extension": ".py",
   "mimetype": "text/x-python",
   "name": "python",
   "nbconvert_exporter": "python",
   "pygments_lexer": "ipython3",
   "version": "3.7.3"
  }
 },
 "nbformat": 4,
 "nbformat_minor": 2
}
