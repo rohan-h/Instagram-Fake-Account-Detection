{
 "cells": [
  {
   "cell_type": "code",
   "execution_count": 1,
   "metadata": {},
   "outputs": [
    {
     "name": "stderr",
     "output_type": "stream",
     "text": [
      "Using TensorFlow backend.\n"
     ]
    }
   ],
   "source": [
    "import numpy as np\n",
    "import matplotlib as plt\n",
    "import random\n",
    "from random import seed\n",
    "import pandas as pd\n",
    "\n",
    "\n",
    "from sklearn.preprocessing import LabelEncoder, OneHotEncoder\n",
    "from sklearn.model_selection import train_test_split\n",
    "from sklearn.preprocessing import StandardScaler\n",
    "from sklearn.preprocessing import MinMaxScaler\n",
    "\n",
    "from keras.models import Sequential\n",
    "from keras.layers import Dense\n",
    "import keras_metrics as k\n",
    "from keras import optimizers\n",
    "\n",
    "\n",
    "from sklearn.metrics import confusion_matrix, classification_report"
   ]
  },
  {
   "cell_type": "code",
   "execution_count": 2,
   "metadata": {},
   "outputs": [
    {
     "name": "stdout",
     "output_type": "stream",
     "text": [
      "(576, 11)\n",
      "(576,)\n"
     ]
    }
   ],
   "source": [
    "dataset = pd.read_csv(\"Insta Data/train1.csv\")\n",
    "\n",
    "features = dataset.iloc[:, 0:11].values\n",
    "print(features.shape)\n",
    "\n",
    "labels = dataset.iloc[:, 11].values\n",
    "print(labels.shape)\n",
    "#print(labels)"
   ]
  },
  {
   "cell_type": "code",
   "execution_count": 3,
   "metadata": {},
   "outputs": [
    {
     "name": "stdout",
     "output_type": "stream",
     "text": [
      "(460, 11)\n",
      "[[1.000e+00 0.000e+00 2.000e+00 ... 9.800e+02 6.870e+02 1.517e+03]\n",
      " [1.000e+00 0.000e+00 3.000e+00 ... 7.000e+00 2.570e+02 3.460e+02]\n",
      " [0.000e+00 2.200e-01 1.000e+00 ... 0.000e+00 5.000e+00 5.600e+01]\n",
      " ...\n",
      " [0.000e+00 1.500e-01 2.000e+00 ... 1.000e+00 1.300e+01 2.200e+01]\n",
      " [1.000e+00 1.100e-01 4.000e+00 ... 1.600e+01 7.380e+02 5.440e+02]\n",
      " [0.000e+00 5.000e-01 1.000e+00 ... 0.000e+00 1.000e+01 2.000e+00]]\n",
      "[[0.000e+00 3.300e-01 1.000e+00 ... 0.000e+00 2.300e+01 4.000e+01]\n",
      " [1.000e+00 0.000e+00 1.000e+00 ... 7.400e+01 1.370e+02 9.600e+01]\n",
      " [1.000e+00 0.000e+00 2.000e+00 ... 3.200e+01 3.800e+03 2.780e+02]\n",
      " ...\n",
      " [1.000e+00 0.000e+00 2.000e+00 ... 8.000e+00 7.510e+02 1.223e+03]\n",
      " [1.000e+00 0.000e+00 1.000e+00 ... 1.200e+01 3.090e+02 3.640e+02]\n",
      " [1.000e+00 0.000e+00 2.000e+00 ... 6.980e+02 1.926e+03 1.410e+03]]\n"
     ]
    }
   ],
   "source": [
    "features_train, features_test, labels_train, labels_test = train_test_split(features, labels, test_size=0.2, random_state= 345, shuffle = True)\n",
    "print(features_train.shape)\n",
    "\n",
    "sc = MinMaxScaler()\n",
    "features_train = sc.fit_transform(features_train)\n",
    "features_test = sc.transform(features_test)\n",
    "\n",
    "print(features_train)\n",
    "print(features_test)"
   ]
  },
  {
   "cell_type": "code",
   "execution_count": 4,
   "metadata": {},
   "outputs": [
    {
     "name": "stdout",
     "output_type": "stream",
     "text": [
      "WARNING:tensorflow:From C:\\Users\\rohan\\Anaconda3\\lib\\site-packages\\keras\\backend\\tensorflow_backend.py:74: The name tf.get_default_graph is deprecated. Please use tf.compat.v1.get_default_graph instead.\n",
      "\n",
      "WARNING:tensorflow:From C:\\Users\\rohan\\Anaconda3\\lib\\site-packages\\keras\\backend\\tensorflow_backend.py:517: The name tf.placeholder is deprecated. Please use tf.compat.v1.placeholder instead.\n",
      "\n",
      "WARNING:tensorflow:From C:\\Users\\rohan\\Anaconda3\\lib\\site-packages\\keras\\backend\\tensorflow_backend.py:4138: The name tf.random_uniform is deprecated. Please use tf.random.uniform instead.\n",
      "\n",
      "WARNING:tensorflow:From C:\\Users\\rohan\\Anaconda3\\lib\\site-packages\\keras\\optimizers.py:790: The name tf.train.Optimizer is deprecated. Please use tf.compat.v1.train.Optimizer instead.\n",
      "\n",
      "WARNING:tensorflow:From C:\\Users\\rohan\\Anaconda3\\lib\\site-packages\\keras\\backend\\tensorflow_backend.py:3376: The name tf.log is deprecated. Please use tf.math.log instead.\n",
      "\n",
      "WARNING:tensorflow:From C:\\Users\\rohan\\Anaconda3\\lib\\site-packages\\tensorflow_core\\python\\ops\\nn_impl.py:183: where (from tensorflow.python.ops.array_ops) is deprecated and will be removed in a future version.\n",
      "Instructions for updating:\n",
      "Use tf.where in 2.0, which has the same broadcast rule as np.where\n"
     ]
    },
    {
     "name": "stderr",
     "output_type": "stream",
     "text": [
      "C:\\Users\\rohan\\Anaconda3\\lib\\site-packages\\ipykernel_launcher.py:2: UserWarning: Update your `Dense` call to the Keras 2 API: `Dense(activation=\"relu\", input_dim=11, units=10)`\n",
      "  \n",
      "C:\\Users\\rohan\\Anaconda3\\lib\\site-packages\\ipykernel_launcher.py:3: UserWarning: Update your `Dense` call to the Keras 2 API: `Dense(activation=\"relu\", units=7)`\n",
      "  This is separate from the ipykernel package so we can avoid doing imports until\n",
      "C:\\Users\\rohan\\Anaconda3\\lib\\site-packages\\ipykernel_launcher.py:4: UserWarning: Update your `Dense` call to the Keras 2 API: `Dense(activation=\"sigmoid\", units=1)`\n",
      "  after removing the cwd from sys.path.\n"
     ]
    },
    {
     "name": "stdout",
     "output_type": "stream",
     "text": [
      "WARNING:tensorflow:From C:\\Users\\rohan\\Anaconda3\\lib\\site-packages\\keras\\backend\\tensorflow_backend.py:986: The name tf.assign_add is deprecated. Please use tf.compat.v1.assign_add instead.\n",
      "\n",
      "WARNING:tensorflow:From C:\\Users\\rohan\\Anaconda3\\lib\\site-packages\\keras\\backend\\tensorflow_backend.py:973: The name tf.assign is deprecated. Please use tf.compat.v1.assign instead.\n",
      "\n",
      "WARNING:tensorflow:From C:\\Users\\rohan\\Anaconda3\\lib\\site-packages\\keras\\backend\\tensorflow_backend.py:2741: The name tf.Session is deprecated. Please use tf.compat.v1.Session instead.\n",
      "\n",
      "Epoch 1/50\n",
      "WARNING:tensorflow:From C:\\Users\\rohan\\Anaconda3\\lib\\site-packages\\keras\\backend\\tensorflow_backend.py:174: The name tf.get_default_session is deprecated. Please use tf.compat.v1.get_default_session instead.\n",
      "\n",
      "WARNING:tensorflow:From C:\\Users\\rohan\\Anaconda3\\lib\\site-packages\\keras\\backend\\tensorflow_backend.py:181: The name tf.ConfigProto is deprecated. Please use tf.compat.v1.ConfigProto instead.\n",
      "\n",
      "WARNING:tensorflow:From C:\\Users\\rohan\\Anaconda3\\lib\\site-packages\\keras\\backend\\tensorflow_backend.py:190: The name tf.global_variables is deprecated. Please use tf.compat.v1.global_variables instead.\n",
      "\n",
      "WARNING:tensorflow:From C:\\Users\\rohan\\Anaconda3\\lib\\site-packages\\keras\\backend\\tensorflow_backend.py:199: The name tf.is_variable_initialized is deprecated. Please use tf.compat.v1.is_variable_initialized instead.\n",
      "\n",
      "WARNING:tensorflow:From C:\\Users\\rohan\\Anaconda3\\lib\\site-packages\\keras\\backend\\tensorflow_backend.py:206: The name tf.variables_initializer is deprecated. Please use tf.compat.v1.variables_initializer instead.\n",
      "\n",
      "460/460 [==============================] - 4s 9ms/step - loss: 6.3012 - acc: 0.4978\n",
      "Epoch 2/50\n",
      "460/460 [==============================] - 0s 143us/step - loss: 3.7245 - acc: 0.5370\n",
      "Epoch 3/50\n",
      "460/460 [==============================] - 0s 141us/step - loss: 2.1541 - acc: 0.6935\n",
      "Epoch 4/50\n",
      "460/460 [==============================] - 0s 141us/step - loss: 1.4852 - acc: 0.7283\n",
      "Epoch 5/50\n",
      "460/460 [==============================] - 0s 141us/step - loss: 1.0465 - acc: 0.7217\n",
      "Epoch 6/50\n",
      "460/460 [==============================] - 0s 143us/step - loss: 0.7593 - acc: 0.7457\n",
      "Epoch 7/50\n",
      "460/460 [==============================] - 0s 143us/step - loss: 0.5941 - acc: 0.7609\n",
      "Epoch 8/50\n",
      "460/460 [==============================] - 0s 145us/step - loss: 0.4954 - acc: 0.8435\n",
      "Epoch 9/50\n",
      "460/460 [==============================] - 0s 143us/step - loss: 0.4878 - acc: 0.8174\n",
      "Epoch 10/50\n",
      "460/460 [==============================] - 0s 152us/step - loss: 0.4787 - acc: 0.8457\n",
      "Epoch 11/50\n",
      "460/460 [==============================] - 0s 156us/step - loss: 0.4557 - acc: 0.8630\n",
      "Epoch 12/50\n",
      "460/460 [==============================] - 0s 152us/step - loss: 0.5055 - acc: 0.8696\n",
      "Epoch 13/50\n",
      "460/460 [==============================] - 0s 150us/step - loss: 0.9231 - acc: 0.8522\n",
      "Epoch 14/50\n",
      "460/460 [==============================] - 0s 143us/step - loss: 0.9804 - acc: 0.8457\n",
      "Epoch 15/50\n",
      "460/460 [==============================] - 0s 141us/step - loss: 0.9687 - acc: 0.8500\n",
      "Epoch 16/50\n",
      "460/460 [==============================] - 0s 143us/step - loss: 0.9640 - acc: 0.8587\n",
      "Epoch 17/50\n",
      "460/460 [==============================] - 0s 143us/step - loss: 0.4516 - acc: 0.8891\n",
      "Epoch 18/50\n",
      "460/460 [==============================] - 0s 147us/step - loss: 0.4250 - acc: 0.8826\n",
      "Epoch 19/50\n",
      "460/460 [==============================] - 0s 141us/step - loss: 0.4172 - acc: 0.8891\n",
      "Epoch 20/50\n",
      "460/460 [==============================] - 0s 145us/step - loss: 0.4039 - acc: 0.9000\n",
      "Epoch 21/50\n",
      "460/460 [==============================] - 0s 145us/step - loss: 0.3951 - acc: 0.9000\n",
      "Epoch 22/50\n",
      "460/460 [==============================] - 0s 143us/step - loss: 0.3878 - acc: 0.8978\n",
      "Epoch 23/50\n",
      "460/460 [==============================] - 0s 147us/step - loss: 0.3865 - acc: 0.9000\n",
      "Epoch 24/50\n",
      "460/460 [==============================] - 0s 147us/step - loss: 0.3796 - acc: 0.8957\n",
      "Epoch 25/50\n",
      "460/460 [==============================] - 0s 150us/step - loss: 0.5953 - acc: 0.8870\n",
      "Epoch 26/50\n",
      "460/460 [==============================] - 0s 150us/step - loss: 0.8685 - acc: 0.8696\n",
      "Epoch 27/50\n",
      "460/460 [==============================] - 0s 150us/step - loss: 0.6901 - acc: 0.8826\n",
      "Epoch 28/50\n",
      "460/460 [==============================] - 0s 143us/step - loss: 0.7031 - acc: 0.8848\n",
      "Epoch 29/50\n",
      "460/460 [==============================] - 0s 141us/step - loss: 0.8343 - acc: 0.8783\n",
      "Epoch 30/50\n",
      "460/460 [==============================] - 0s 139us/step - loss: 0.4950 - acc: 0.8674\n",
      "Epoch 31/50\n",
      "460/460 [==============================] - 0s 143us/step - loss: 0.4491 - acc: 0.8717\n",
      "Epoch 32/50\n",
      "460/460 [==============================] - 0s 152us/step - loss: 0.4134 - acc: 0.8848\n",
      "Epoch 33/50\n",
      "460/460 [==============================] - 0s 143us/step - loss: 0.3858 - acc: 0.8978\n",
      "Epoch 34/50\n",
      "460/460 [==============================] - 0s 147us/step - loss: 0.3716 - acc: 0.9109\n",
      "Epoch 35/50\n",
      "460/460 [==============================] - 0s 145us/step - loss: 0.4029 - acc: 0.9000\n",
      "Epoch 36/50\n",
      "460/460 [==============================] - 0s 143us/step - loss: 0.3744 - acc: 0.9022\n",
      "Epoch 37/50\n",
      "460/460 [==============================] - 0s 143us/step - loss: 0.3654 - acc: 0.9043\n",
      "Epoch 38/50\n",
      "460/460 [==============================] - 0s 147us/step - loss: 0.3544 - acc: 0.9065\n",
      "Epoch 39/50\n",
      "460/460 [==============================] - 0s 141us/step - loss: 0.3504 - acc: 0.9109\n",
      "Epoch 40/50\n",
      "460/460 [==============================] - 0s 147us/step - loss: 0.3465 - acc: 0.9065\n",
      "Epoch 41/50\n",
      "460/460 [==============================] - 0s 156us/step - loss: 0.3464 - acc: 0.9065\n",
      "Epoch 42/50\n",
      "460/460 [==============================] - 0s 156us/step - loss: 0.3457 - acc: 0.9087\n",
      "Epoch 43/50\n",
      "460/460 [==============================] - 0s 152us/step - loss: 0.3415 - acc: 0.9087\n",
      "Epoch 44/50\n",
      "460/460 [==============================] - 0s 160us/step - loss: 0.3390 - acc: 0.9065\n",
      "Epoch 45/50\n",
      "460/460 [==============================] - 0s 158us/step - loss: 0.3351 - acc: 0.9087\n",
      "Epoch 46/50\n",
      "460/460 [==============================] - 0s 152us/step - loss: 0.3384 - acc: 0.9043\n",
      "Epoch 47/50\n",
      "460/460 [==============================] - 0s 143us/step - loss: 0.3342 - acc: 0.9087\n",
      "Epoch 48/50\n",
      "460/460 [==============================] - 0s 143us/step - loss: 0.3322 - acc: 0.9065\n",
      "Epoch 49/50\n",
      "460/460 [==============================] - 0s 143us/step - loss: 0.3313 - acc: 0.9065\n",
      "Epoch 50/50\n",
      "460/460 [==============================] - 0s 145us/step - loss: 0.3324 - acc: 0.9043\n"
     ]
    },
    {
     "data": {
      "text/plain": [
       "<keras.callbacks.History at 0x215f1bf8470>"
      ]
     },
     "execution_count": 4,
     "metadata": {},
     "output_type": "execute_result"
    }
   ],
   "source": [
    "classifier = Sequential()\n",
    "classifier.add(Dense(output_dim=10, activation='relu', input_dim=11))\n",
    "classifier.add(Dense(output_dim=7, activation='relu'))\n",
    "classifier.add(Dense(output_dim=1, activation='sigmoid'))\n",
    "adam = optimizers.Adam(lr=0.02, beta_1=0.9, beta_2=0.999, amsgrad=False)\n",
    "\n",
    "classifier.compile(optimizer='adam' , loss='binary_crossentropy', metrics=['accuracy'])\n",
    "classifier.fit(features_train, labels_train, batch_size=16, epochs=50)"
   ]
  },
  {
   "cell_type": "code",
   "execution_count": 5,
   "metadata": {},
   "outputs": [
    {
     "name": "stdout",
     "output_type": "stream",
     "text": [
      "(120, 11)\n",
      "(120,)\n"
     ]
    }
   ],
   "source": [
    "validation_set = pd.read_csv(\"Insta Data/test.csv\")\n",
    "\n",
    "validation_features = validation_set.iloc[:, 0:11].values\n",
    "print(validation_features.shape)\n",
    "\n",
    "validation_labels = validation_set.iloc[:, 11].values\n",
    "print(validation_labels.shape)"
   ]
  },
  {
   "cell_type": "code",
   "execution_count": 6,
   "metadata": {},
   "outputs": [
    {
     "name": "stdout",
     "output_type": "stream",
     "text": [
      "[[1.000e+00 3.300e-01 1.000e+00 ... 3.500e+01 4.880e+02 6.040e+02]\n",
      " [1.000e+00 0.000e+00 5.000e+00 ... 3.000e+00 3.500e+01 6.000e+00]\n",
      " [1.000e+00 0.000e+00 2.000e+00 ... 3.190e+02 3.280e+02 6.680e+02]\n",
      " ...\n",
      " [1.000e+00 0.000e+00 2.000e+00 ... 3.000e+00 8.330e+02 3.572e+03]\n",
      " [0.000e+00 1.700e-01 1.000e+00 ... 1.000e+00 2.190e+02 1.695e+03]\n",
      " [1.000e+00 4.400e-01 1.000e+00 ... 3.000e+00 3.900e+01 6.800e+01]]\n"
     ]
    }
   ],
   "source": [
    "validation_features = sc.fit_transform(validation_features)\n",
    "print(validation_features)\n",
    "pred = classifier.predict(validation_features)\n",
    "pred = (pred > 0.5).astype(int)\n"
   ]
  },
  {
   "cell_type": "code",
   "execution_count": 7,
   "metadata": {},
   "outputs": [
    {
     "name": "stdout",
     "output_type": "stream",
     "text": [
      "              precision    recall  f1-score   support\n",
      "\n",
      "           0       0.90      0.87      0.88        60\n",
      "           1       0.87      0.90      0.89        60\n",
      "\n",
      "    accuracy                           0.88       120\n",
      "   macro avg       0.88      0.88      0.88       120\n",
      "weighted avg       0.88      0.88      0.88       120\n",
      "\n"
     ]
    }
   ],
   "source": [
    "print(classification_report(validation_labels, pred))"
   ]
  },
  {
   "cell_type": "code",
   "execution_count": 8,
   "metadata": {},
   "outputs": [
    {
     "name": "stdout",
     "output_type": "stream",
     "text": [
      "[[52  8]\n",
      " [ 6 54]]\n"
     ]
    }
   ],
   "source": [
    "print(confusion_matrix(validation_labels, pred))"
   ]
  }
 ],
 "metadata": {
  "kernelspec": {
   "display_name": "Python 3",
   "language": "python",
   "name": "python3"
  },
  "language_info": {
   "codemirror_mode": {
    "name": "ipython",
    "version": 3
   },
   "file_extension": ".py",
   "mimetype": "text/x-python",
   "name": "python",
   "nbconvert_exporter": "python",
   "pygments_lexer": "ipython3",
   "version": "3.7.3"
  }
 },
 "nbformat": 4,
 "nbformat_minor": 2
}
