{
 "cells": [
  {
   "cell_type": "code",
   "execution_count": 1,
   "metadata": {},
   "outputs": [
    {
     "name": "stderr",
     "output_type": "stream",
     "text": [
      "Using TensorFlow backend.\n"
     ]
    }
   ],
   "source": [
    "import numpy as np\n",
    "import matplotlib as plt\n",
    "import random\n",
    "from random import seed\n",
    "import pandas as pd\n",
    "\n",
    "\n",
    "from sklearn.preprocessing import LabelEncoder, OneHotEncoder\n",
    "from sklearn.model_selection import train_test_split\n",
    "from sklearn.preprocessing import StandardScaler\n",
    "from sklearn.preprocessing import MinMaxScaler\n",
    "\n",
    "from keras.models import Sequential\n",
    "from keras.layers import Dense\n",
    "import keras_metrics as k\n",
    "from keras import optimizers\n",
    "\n",
    "\n",
    "from sklearn.metrics import confusion_matrix, classification_report"
   ]
  },
  {
   "cell_type": "code",
   "execution_count": 2,
   "metadata": {},
   "outputs": [
    {
     "name": "stdout",
     "output_type": "stream",
     "text": [
      "(451, 10)\n",
      "(451,)\n",
      "[[  8   6  12 ...  73   0   0]\n",
      " [ 14 141   8 ... 115   0   1]\n",
      " [  9   0   7 ...  26   0   0]\n",
      " ...\n",
      " [  8 149  17 ... 551   0   1]\n",
      " [ 14   0   6 ...   2   0   0]\n",
      " [ 10   0   5 ...   3   0   0]]\n"
     ]
    }
   ],
   "source": [
    "dataset = pd.read_csv(\"train.csv\")\n",
    "\n",
    "features = dataset.iloc[:, 5:15].values\n",
    "print(features.shape)\n",
    "\n",
    "labels = dataset.iloc[:, 15].values\n",
    "print(labels.shape)\n",
    "#print(labels)\n",
    "\n",
    "print(features)"
   ]
  },
  {
   "cell_type": "code",
   "execution_count": 3,
   "metadata": {},
   "outputs": [
    {
     "name": "stdout",
     "output_type": "stream",
     "text": [
      "(405, 10)\n",
      "[[ 0.1613969  -0.64267776  1.36345119 ... -0.1745739  -0.25236607\n",
      "  -0.37529331]\n",
      " [-0.75494533 -0.64267776 -1.21691204 ... -0.17301408 -0.25236607\n",
      "  -0.37529331]\n",
      " [ 0.1613969  -0.64267776 -1.06512597 ... -0.07474586 -0.25236607\n",
      "  -0.37529331]\n",
      " ...\n",
      " [-0.14405051 -0.64267776 -1.21691204 ... -0.17145427 -0.25236607\n",
      "  -0.37529331]\n",
      " [-0.14405051 -0.64267776 -0.45798168 ... -0.15741595 -0.25236607\n",
      "  -0.37529331]\n",
      " [-1.36584015 -0.64267776 -1.21691204 ... -0.1745739  -0.25236607\n",
      "  -0.37529331]]\n"
     ]
    }
   ],
   "source": [
    "features_train, features_test, labels_train, labels_test = train_test_split(features, labels, test_size=0.1, random_state= 2255)\n",
    "print(features_train.shape)\n",
    "\n",
    "sc = StandardScaler()\n",
    "features_train = sc.fit_transform(features_train)\n",
    "features_test = sc.transform(features_test)\n",
    "\n",
    "print(features_train)"
   ]
  },
  {
   "cell_type": "code",
   "execution_count": 4,
   "metadata": {},
   "outputs": [
    {
     "name": "stdout",
     "output_type": "stream",
     "text": [
      "WARNING:tensorflow:From C:\\Users\\rohan\\Anaconda3\\lib\\site-packages\\keras\\backend\\tensorflow_backend.py:74: The name tf.get_default_graph is deprecated. Please use tf.compat.v1.get_default_graph instead.\n",
      "\n",
      "WARNING:tensorflow:From C:\\Users\\rohan\\Anaconda3\\lib\\site-packages\\keras\\backend\\tensorflow_backend.py:517: The name tf.placeholder is deprecated. Please use tf.compat.v1.placeholder instead.\n",
      "\n",
      "WARNING:tensorflow:From C:\\Users\\rohan\\Anaconda3\\lib\\site-packages\\keras\\backend\\tensorflow_backend.py:4138: The name tf.random_uniform is deprecated. Please use tf.random.uniform instead.\n",
      "\n",
      "WARNING:tensorflow:From C:\\Users\\rohan\\Anaconda3\\lib\\site-packages\\keras\\optimizers.py:790: The name tf.train.Optimizer is deprecated. Please use tf.compat.v1.train.Optimizer instead.\n",
      "\n",
      "WARNING:tensorflow:From C:\\Users\\rohan\\Anaconda3\\lib\\site-packages\\keras\\backend\\tensorflow_backend.py:3376: The name tf.log is deprecated. Please use tf.math.log instead.\n",
      "\n",
      "WARNING:tensorflow:From C:\\Users\\rohan\\Anaconda3\\lib\\site-packages\\tensorflow_core\\python\\ops\\nn_impl.py:183: where (from tensorflow.python.ops.array_ops) is deprecated and will be removed in a future version.\n",
      "Instructions for updating:\n",
      "Use tf.where in 2.0, which has the same broadcast rule as np.where\n",
      "WARNING:tensorflow:From C:\\Users\\rohan\\Anaconda3\\lib\\site-packages\\keras\\backend\\tensorflow_backend.py:986: The name tf.assign_add is deprecated. Please use tf.compat.v1.assign_add instead.\n",
      "\n"
     ]
    },
    {
     "name": "stderr",
     "output_type": "stream",
     "text": [
      "C:\\Users\\rohan\\Anaconda3\\lib\\site-packages\\ipykernel_launcher.py:5: UserWarning: Update your `Dense` call to the Keras 2 API: `Dense(activation=\"relu\", input_dim=10, units=9)`\n",
      "  \"\"\"\n",
      "C:\\Users\\rohan\\Anaconda3\\lib\\site-packages\\ipykernel_launcher.py:11: UserWarning: Update your `Dense` call to the Keras 2 API: `Dense(activation=\"relu\", units=50)`\n",
      "  # This is added back by InteractiveShellApp.init_path()\n",
      "C:\\Users\\rohan\\Anaconda3\\lib\\site-packages\\ipykernel_launcher.py:14: UserWarning: Update your `Dense` call to the Keras 2 API: `Dense(activation=\"sigmoid\", units=1)`\n",
      "  \n"
     ]
    },
    {
     "name": "stdout",
     "output_type": "stream",
     "text": [
      "WARNING:tensorflow:From C:\\Users\\rohan\\Anaconda3\\lib\\site-packages\\keras\\backend\\tensorflow_backend.py:973: The name tf.assign is deprecated. Please use tf.compat.v1.assign instead.\n",
      "\n",
      "WARNING:tensorflow:From C:\\Users\\rohan\\Anaconda3\\lib\\site-packages\\keras\\backend\\tensorflow_backend.py:2741: The name tf.Session is deprecated. Please use tf.compat.v1.Session instead.\n",
      "\n",
      "Train on 405 samples, validate on 46 samples\n",
      "Epoch 1/50\n",
      "WARNING:tensorflow:From C:\\Users\\rohan\\Anaconda3\\lib\\site-packages\\keras\\backend\\tensorflow_backend.py:174: The name tf.get_default_session is deprecated. Please use tf.compat.v1.get_default_session instead.\n",
      "\n",
      "WARNING:tensorflow:From C:\\Users\\rohan\\Anaconda3\\lib\\site-packages\\keras\\backend\\tensorflow_backend.py:181: The name tf.ConfigProto is deprecated. Please use tf.compat.v1.ConfigProto instead.\n",
      "\n",
      "WARNING:tensorflow:From C:\\Users\\rohan\\Anaconda3\\lib\\site-packages\\keras\\backend\\tensorflow_backend.py:190: The name tf.global_variables is deprecated. Please use tf.compat.v1.global_variables instead.\n",
      "\n",
      "WARNING:tensorflow:From C:\\Users\\rohan\\Anaconda3\\lib\\site-packages\\keras\\backend\\tensorflow_backend.py:199: The name tf.is_variable_initialized is deprecated. Please use tf.compat.v1.is_variable_initialized instead.\n",
      "\n",
      "WARNING:tensorflow:From C:\\Users\\rohan\\Anaconda3\\lib\\site-packages\\keras\\backend\\tensorflow_backend.py:206: The name tf.variables_initializer is deprecated. Please use tf.compat.v1.variables_initializer instead.\n",
      "\n",
      "405/405 [==============================] - 2s 4ms/step - loss: 0.7346 - acc: 0.3333 - val_loss: 0.6929 - val_acc: 0.4783\n",
      "Epoch 2/50\n",
      "405/405 [==============================] - 0s 81us/step - loss: 0.6783 - acc: 0.6173 - val_loss: 0.6348 - val_acc: 0.6957\n",
      "Epoch 3/50\n",
      "405/405 [==============================] - 0s 84us/step - loss: 0.6377 - acc: 0.7012 - val_loss: 0.5867 - val_acc: 0.7391\n",
      "Epoch 4/50\n",
      "405/405 [==============================] - 0s 86us/step - loss: 0.6013 - acc: 0.7111 - val_loss: 0.5400 - val_acc: 0.7391\n",
      "Epoch 5/50\n",
      "405/405 [==============================] - 0s 89us/step - loss: 0.5674 - acc: 0.7111 - val_loss: 0.4956 - val_acc: 0.7391\n",
      "Epoch 6/50\n",
      "405/405 [==============================] - 0s 86us/step - loss: 0.5370 - acc: 0.7136 - val_loss: 0.4566 - val_acc: 0.7391\n",
      "Epoch 7/50\n",
      "405/405 [==============================] - 0s 91us/step - loss: 0.5119 - acc: 0.7160 - val_loss: 0.4214 - val_acc: 0.7391\n",
      "Epoch 8/50\n",
      "405/405 [==============================] - 0s 86us/step - loss: 0.4894 - acc: 0.7185 - val_loss: 0.3928 - val_acc: 0.7391\n",
      "Epoch 9/50\n",
      "405/405 [==============================] - 0s 86us/step - loss: 0.4716 - acc: 0.7235 - val_loss: 0.3677 - val_acc: 0.7826\n",
      "Epoch 10/50\n",
      "405/405 [==============================] - 0s 91us/step - loss: 0.4567 - acc: 0.7457 - val_loss: 0.3488 - val_acc: 0.8043\n",
      "Epoch 11/50\n",
      "405/405 [==============================] - 0s 86us/step - loss: 0.4449 - acc: 0.7654 - val_loss: 0.3328 - val_acc: 0.8478\n",
      "Epoch 12/50\n",
      "405/405 [==============================] - 0s 91us/step - loss: 0.4355 - acc: 0.7679 - val_loss: 0.3198 - val_acc: 0.8696\n",
      "Epoch 13/50\n",
      "405/405 [==============================] - 0s 94us/step - loss: 0.4273 - acc: 0.7728 - val_loss: 0.3097 - val_acc: 0.8696\n",
      "Epoch 14/50\n",
      "405/405 [==============================] - 0s 86us/step - loss: 0.4201 - acc: 0.7753 - val_loss: 0.3003 - val_acc: 0.8478\n",
      "Epoch 15/50\n",
      "405/405 [==============================] - 0s 94us/step - loss: 0.4138 - acc: 0.7827 - val_loss: 0.2921 - val_acc: 0.8913\n",
      "Epoch 16/50\n",
      "405/405 [==============================] - 0s 91us/step - loss: 0.4080 - acc: 0.7926 - val_loss: 0.2855 - val_acc: 0.8913\n",
      "Epoch 17/50\n",
      "405/405 [==============================] - 0s 89us/step - loss: 0.4031 - acc: 0.7926 - val_loss: 0.2811 - val_acc: 0.8913\n",
      "Epoch 18/50\n",
      "405/405 [==============================] - 0s 91us/step - loss: 0.3986 - acc: 0.7901 - val_loss: 0.2763 - val_acc: 0.8696\n",
      "Epoch 19/50\n",
      "405/405 [==============================] - 0s 86us/step - loss: 0.3939 - acc: 0.8000 - val_loss: 0.2718 - val_acc: 0.8913\n",
      "Epoch 20/50\n",
      "405/405 [==============================] - 0s 91us/step - loss: 0.3897 - acc: 0.7951 - val_loss: 0.2662 - val_acc: 0.8696\n",
      "Epoch 21/50\n",
      "405/405 [==============================] - 0s 91us/step - loss: 0.3856 - acc: 0.8000 - val_loss: 0.2614 - val_acc: 0.8696\n",
      "Epoch 22/50\n",
      "405/405 [==============================] - 0s 89us/step - loss: 0.3824 - acc: 0.7975 - val_loss: 0.2570 - val_acc: 0.8696\n",
      "Epoch 23/50\n",
      "405/405 [==============================] - 0s 91us/step - loss: 0.3794 - acc: 0.7975 - val_loss: 0.2549 - val_acc: 0.8913\n",
      "Epoch 24/50\n",
      "405/405 [==============================] - 0s 94us/step - loss: 0.3764 - acc: 0.7975 - val_loss: 0.2522 - val_acc: 0.9130\n",
      "Epoch 25/50\n",
      "405/405 [==============================] - 0s 94us/step - loss: 0.3748 - acc: 0.7975 - val_loss: 0.2490 - val_acc: 0.9130\n",
      "Epoch 26/50\n",
      "405/405 [==============================] - 0s 101us/step - loss: 0.3723 - acc: 0.7975 - val_loss: 0.2459 - val_acc: 0.9130\n",
      "Epoch 27/50\n",
      "405/405 [==============================] - 0s 101us/step - loss: 0.3700 - acc: 0.8025 - val_loss: 0.2424 - val_acc: 0.9130\n",
      "Epoch 28/50\n",
      "405/405 [==============================] - 0s 94us/step - loss: 0.3683 - acc: 0.8074 - val_loss: 0.2397 - val_acc: 0.9130\n",
      "Epoch 29/50\n",
      "405/405 [==============================] - 0s 91us/step - loss: 0.3666 - acc: 0.8123 - val_loss: 0.2378 - val_acc: 0.9348\n",
      "Epoch 30/50\n",
      "405/405 [==============================] - 0s 91us/step - loss: 0.3652 - acc: 0.8099 - val_loss: 0.2365 - val_acc: 0.9130\n",
      "Epoch 31/50\n",
      "405/405 [==============================] - 0s 89us/step - loss: 0.3644 - acc: 0.8025 - val_loss: 0.2367 - val_acc: 0.9130\n",
      "Epoch 32/50\n",
      "405/405 [==============================] - 0s 91us/step - loss: 0.3625 - acc: 0.8099 - val_loss: 0.2307 - val_acc: 0.9130\n",
      "Epoch 33/50\n",
      "405/405 [==============================] - 0s 99us/step - loss: 0.3598 - acc: 0.8148 - val_loss: 0.2294 - val_acc: 0.9348\n",
      "Epoch 34/50\n",
      "405/405 [==============================] - 0s 86us/step - loss: 0.3586 - acc: 0.8123 - val_loss: 0.2299 - val_acc: 0.9348\n",
      "Epoch 35/50\n",
      "405/405 [==============================] - 0s 91us/step - loss: 0.3571 - acc: 0.8148 - val_loss: 0.2275 - val_acc: 0.9348\n",
      "Epoch 36/50\n",
      "405/405 [==============================] - 0s 91us/step - loss: 0.3555 - acc: 0.8123 - val_loss: 0.2264 - val_acc: 0.9348\n",
      "Epoch 37/50\n",
      "405/405 [==============================] - 0s 89us/step - loss: 0.3543 - acc: 0.8148 - val_loss: 0.2253 - val_acc: 0.9348\n",
      "Epoch 38/50\n",
      "405/405 [==============================] - 0s 89us/step - loss: 0.3532 - acc: 0.8173 - val_loss: 0.2246 - val_acc: 0.9348\n",
      "Epoch 39/50\n",
      "405/405 [==============================] - 0s 86us/step - loss: 0.3523 - acc: 0.8123 - val_loss: 0.2249 - val_acc: 0.9348\n",
      "Epoch 40/50\n",
      "405/405 [==============================] - 0s 89us/step - loss: 0.3515 - acc: 0.8148 - val_loss: 0.2249 - val_acc: 0.9348\n",
      "Epoch 41/50\n",
      "405/405 [==============================] - 0s 89us/step - loss: 0.3503 - acc: 0.8123 - val_loss: 0.2230 - val_acc: 0.9348\n",
      "Epoch 42/50\n",
      "405/405 [==============================] - 0s 94us/step - loss: 0.3494 - acc: 0.8148 - val_loss: 0.2209 - val_acc: 0.9348\n",
      "Epoch 43/50\n",
      "405/405 [==============================] - 0s 91us/step - loss: 0.3487 - acc: 0.8173 - val_loss: 0.2207 - val_acc: 0.9130\n",
      "Epoch 44/50\n",
      "405/405 [==============================] - 0s 86us/step - loss: 0.3475 - acc: 0.8173 - val_loss: 0.2215 - val_acc: 0.9348\n",
      "Epoch 45/50\n",
      "405/405 [==============================] - 0s 101us/step - loss: 0.3471 - acc: 0.8148 - val_loss: 0.2208 - val_acc: 0.9348\n",
      "Epoch 46/50\n",
      "405/405 [==============================] - 0s 94us/step - loss: 0.3457 - acc: 0.8198 - val_loss: 0.2180 - val_acc: 0.9348\n",
      "Epoch 47/50\n",
      "405/405 [==============================] - 0s 89us/step - loss: 0.3454 - acc: 0.8173 - val_loss: 0.2191 - val_acc: 0.9348\n",
      "Epoch 48/50\n",
      "405/405 [==============================] - 0s 89us/step - loss: 0.3439 - acc: 0.8247 - val_loss: 0.2171 - val_acc: 0.9348\n",
      "Epoch 49/50\n",
      "405/405 [==============================] - 0s 86us/step - loss: 0.3440 - acc: 0.8198 - val_loss: 0.2164 - val_acc: 0.9130\n",
      "Epoch 50/50\n",
      "405/405 [==============================] - 0s 99us/step - loss: 0.3425 - acc: 0.8296 - val_loss: 0.2179 - val_acc: 0.9348\n"
     ]
    }
   ],
   "source": [
    "classifier = Sequential()\n",
    "\n",
    "classifier.add(Dense(output_dim=9, \n",
    "                     activation='relu', \n",
    "                     input_dim=10))\n",
    "\n",
    "# classifier.add(Dense(output_dim=100, \n",
    "#                      activation='relu'))\n",
    "\n",
    "classifier.add(Dense(output_dim=50, \n",
    "                     activation='relu'))\n",
    "\n",
    "classifier.add(Dense(output_dim=1, \n",
    "                     activation='sigmoid'))\n",
    "\n",
    "adam = optimizers.Adam(lr=0.001, beta_1=0.9, beta_2=0.999, amsgrad=False)\n",
    "\n",
    "classifier.compile(optimizer=adam , loss='binary_crossentropy', metrics=['accuracy'])\n",
    "history = classifier.fit(features_train, labels_train, validation_data = [features_test,labels_test], batch_size=30, epochs=50)\n",
    "\n"
   ]
  },
  {
   "cell_type": "code",
   "execution_count": 5,
   "metadata": {},
   "outputs": [
    {
     "name": "stdout",
     "output_type": "stream",
     "text": [
      "(518, 10)\n",
      "(518,)\n"
     ]
    }
   ],
   "source": [
    "validation_set = pd.read_csv(\"test.csv\")\n",
    "\n",
    "validation_features = validation_set.iloc[:, 5:15].values\n",
    "print(validation_features.shape)\n",
    "\n",
    "validation_labels = validation_set.iloc[:, 15].values\n",
    "print(validation_labels.shape)"
   ]
  },
  {
   "cell_type": "code",
   "execution_count": 6,
   "metadata": {},
   "outputs": [],
   "source": [
    "validation_features = sc.fit_transform(validation_features)\n",
    "pred = classifier.predict(validation_features)\n",
    "pred = (pred > 0.5).astype(int)\n"
   ]
  },
  {
   "cell_type": "code",
   "execution_count": null,
   "metadata": {},
   "outputs": [],
   "source": []
  },
  {
   "cell_type": "code",
   "execution_count": 7,
   "metadata": {},
   "outputs": [
    {
     "name": "stdout",
     "output_type": "stream",
     "text": [
      "              precision    recall  f1-score   support\n",
      "\n",
      "           0       0.79      0.76      0.77       200\n",
      "           1       0.85      0.88      0.86       318\n",
      "\n",
      "    accuracy                           0.83       518\n",
      "   macro avg       0.82      0.82      0.82       518\n",
      "weighted avg       0.83      0.83      0.83       518\n",
      "\n"
     ]
    }
   ],
   "source": [
    "print(classification_report(validation_labels, pred))"
   ]
  },
  {
   "cell_type": "code",
   "execution_count": 8,
   "metadata": {},
   "outputs": [
    {
     "name": "stdout",
     "output_type": "stream",
     "text": [
      "[[151  49]\n",
      " [ 39 279]]\n"
     ]
    }
   ],
   "source": [
    "print(confusion_matrix(validation_labels, pred))"
   ]
  },
  {
   "cell_type": "code",
   "execution_count": null,
   "metadata": {},
   "outputs": [],
   "source": []
  }
 ],
 "metadata": {
  "kernelspec": {
   "display_name": "Python 3",
   "language": "python",
   "name": "python3"
  },
  "language_info": {
   "codemirror_mode": {
    "name": "ipython",
    "version": 3
   },
   "file_extension": ".py",
   "mimetype": "text/x-python",
   "name": "python",
   "nbconvert_exporter": "python",
   "pygments_lexer": "ipython3",
   "version": "3.7.3"
  }
 },
 "nbformat": 4,
 "nbformat_minor": 2
}
