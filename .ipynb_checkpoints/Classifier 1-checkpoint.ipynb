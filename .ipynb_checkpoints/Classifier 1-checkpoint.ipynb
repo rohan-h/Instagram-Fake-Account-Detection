{
 "cells": [
  {
   "cell_type": "code",
   "execution_count": 1,
   "metadata": {},
   "outputs": [
    {
     "name": "stderr",
     "output_type": "stream",
     "text": [
      "Using TensorFlow backend.\n"
     ]
    }
   ],
   "source": [
    "import numpy as np\n",
    "import matplotlib.pyplot as plt\n",
    "import random\n",
    "from random import seed\n",
    "import pandas as pd\n",
    "\n",
    "\n",
    "from sklearn.preprocessing import LabelEncoder, OneHotEncoder\n",
    "from sklearn.model_selection import train_test_split\n",
    "from sklearn.preprocessing import StandardScaler\n",
    "from sklearn.preprocessing import MinMaxScaler\n",
    "\n",
    "from keras.models import Sequential\n",
    "from keras.layers import Dense\n",
    "import keras_metrics as k\n",
    "from keras import optimizers\n",
    "\n",
    "from keras.utils.vis_utils import plot_model\n",
    "from sklearn.metrics import confusion_matrix, classification_report"
   ]
  },
  {
   "cell_type": "code",
   "execution_count": 2,
   "metadata": {},
   "outputs": [
    {
     "name": "stdout",
     "output_type": "stream",
     "text": [
      "(576, 11)\n",
      "(576,)\n"
     ]
    }
   ],
   "source": [
    "dataset = pd.read_csv(\"Insta Data/train1.csv\")\n",
    "\n",
    "features = dataset.iloc[:, 0:11].values\n",
    "print(features.shape)\n",
    "\n",
    "labels = dataset.iloc[:, 11].values\n",
    "print(labels.shape)\n",
    "#print(labels)"
   ]
  },
  {
   "cell_type": "code",
   "execution_count": 3,
   "metadata": {},
   "outputs": [
    {
     "name": "stdout",
     "output_type": "stream",
     "text": [
      "(460, 11)\n",
      "[[1.00000000e+00 0.00000000e+00 1.66666667e-01 ... 1.32629585e-01\n",
      "  4.47891448e-05 2.02266667e-01]\n",
      " [1.00000000e+00 0.00000000e+00 2.50000000e-01 ... 9.47354175e-04\n",
      "  1.67551823e-05 4.61333333e-02]\n",
      " [0.00000000e+00 2.39130435e-01 8.33333333e-02 ... 0.00000000e+00\n",
      "  3.25976309e-07 7.46666667e-03]\n",
      " ...\n",
      " [0.00000000e+00 1.63043478e-01 1.66666667e-01 ... 1.35336311e-04\n",
      "  8.47538403e-07 2.93333333e-03]\n",
      " [1.00000000e+00 1.19565217e-01 3.33333333e-01 ... 2.16538097e-03\n",
      "  4.81141032e-05 7.25333333e-02]\n",
      " [0.00000000e+00 5.43478261e-01 8.33333333e-02 ... 0.00000000e+00\n",
      "  6.51952618e-07 2.66666667e-04]]\n",
      "[[0.00000000e+00 3.58695652e-01 8.33333333e-02 ... 0.00000000e+00\n",
      "  1.49949102e-06 5.33333333e-03]\n",
      " [1.00000000e+00 0.00000000e+00 8.33333333e-02 ... 1.00148870e-02\n",
      "  8.93175086e-06 1.28000000e-02]\n",
      " [1.00000000e+00 0.00000000e+00 1.66666667e-01 ... 4.33076194e-03\n",
      "  2.47741995e-04 3.70666667e-02]\n",
      " ...\n",
      " [1.00000000e+00 0.00000000e+00 1.66666667e-01 ... 1.08269049e-03\n",
      "  4.89616416e-05 1.63066667e-01]\n",
      " [1.00000000e+00 0.00000000e+00 8.33333333e-02 ... 1.62403573e-03\n",
      "  2.01453359e-05 4.85333333e-02]\n",
      " [1.00000000e+00 0.00000000e+00 1.66666667e-01 ... 9.44647449e-02\n",
      "  1.25566074e-04 1.88000000e-01]]\n"
     ]
    }
   ],
   "source": [
    "features_train, features_test, labels_train, labels_test = train_test_split(features, labels, test_size=0.2, random_state= 345, shuffle = True)\n",
    "print(features_train.shape)\n",
    "\n",
    "sc = MinMaxScaler()\n",
    "features_train = sc.fit_transform(features_train)\n",
    "features_test = sc.transform(features_test)\n",
    "\n",
    "print(features_train)\n",
    "print(features_test)"
   ]
  },
  {
   "cell_type": "code",
   "execution_count": 4,
   "metadata": {},
   "outputs": [
    {
     "name": "stdout",
     "output_type": "stream",
     "text": [
      "WARNING:tensorflow:From C:\\Users\\rohan\\Anaconda3\\lib\\site-packages\\keras\\backend\\tensorflow_backend.py:74: The name tf.get_default_graph is deprecated. Please use tf.compat.v1.get_default_graph instead.\n",
      "\n",
      "WARNING:tensorflow:From C:\\Users\\rohan\\Anaconda3\\lib\\site-packages\\keras\\backend\\tensorflow_backend.py:517: The name tf.placeholder is deprecated. Please use tf.compat.v1.placeholder instead.\n",
      "\n",
      "WARNING:tensorflow:From C:\\Users\\rohan\\Anaconda3\\lib\\site-packages\\keras\\backend\\tensorflow_backend.py:4138: The name tf.random_uniform is deprecated. Please use tf.random.uniform instead.\n",
      "\n",
      "WARNING:tensorflow:From C:\\Users\\rohan\\Anaconda3\\lib\\site-packages\\keras\\optimizers.py:790: The name tf.train.Optimizer is deprecated. Please use tf.compat.v1.train.Optimizer instead.\n",
      "\n",
      "WARNING:tensorflow:From C:\\Users\\rohan\\Anaconda3\\lib\\site-packages\\keras\\backend\\tensorflow_backend.py:3376: The name tf.log is deprecated. Please use tf.math.log instead.\n",
      "\n",
      "WARNING:tensorflow:From C:\\Users\\rohan\\Anaconda3\\lib\\site-packages\\tensorflow_core\\python\\ops\\nn_impl.py:183: where (from tensorflow.python.ops.array_ops) is deprecated and will be removed in a future version.\n",
      "Instructions for updating:\n",
      "Use tf.where in 2.0, which has the same broadcast rule as np.where\n"
     ]
    },
    {
     "name": "stderr",
     "output_type": "stream",
     "text": [
      "C:\\Users\\rohan\\Anaconda3\\lib\\site-packages\\ipykernel_launcher.py:4: UserWarning: Update your `Dense` call to the Keras 2 API: `Dense(activation=\"relu\", input_dim=11, units=10)`\n",
      "  after removing the cwd from sys.path.\n",
      "C:\\Users\\rohan\\Anaconda3\\lib\\site-packages\\ipykernel_launcher.py:7: UserWarning: Update your `Dense` call to the Keras 2 API: `Dense(activation=\"relu\", units=7)`\n",
      "  import sys\n",
      "C:\\Users\\rohan\\Anaconda3\\lib\\site-packages\\ipykernel_launcher.py:10: UserWarning: Update your `Dense` call to the Keras 2 API: `Dense(activation=\"sigmoid\", units=1)`\n",
      "  # Remove the CWD from sys.path while we load stuff.\n"
     ]
    },
    {
     "name": "stdout",
     "output_type": "stream",
     "text": [
      "_________________________________________________________________\n",
      "Layer (type)                 Output Shape              Param #   \n",
      "=================================================================\n",
      "dense_1 (Dense)              (None, 10)                120       \n",
      "_________________________________________________________________\n",
      "dense_2 (Dense)              (None, 7)                 77        \n",
      "_________________________________________________________________\n",
      "dense_3 (Dense)              (None, 1)                 8         \n",
      "=================================================================\n",
      "Total params: 205\n",
      "Trainable params: 205\n",
      "Non-trainable params: 0\n",
      "_________________________________________________________________\n",
      "None\n"
     ]
    }
   ],
   "source": [
    "classifier = Sequential()\n",
    "classifier.add(Dense(output_dim=10, \n",
    "                     activation='relu', \n",
    "                     input_dim=11))\n",
    "\n",
    "classifier.add(Dense(output_dim=7, \n",
    "                     activation='relu'))\n",
    "\n",
    "classifier.add(Dense(output_dim=1, \n",
    "                     activation='sigmoid'))\n",
    "\n",
    "adam = optimizers.Adam(lr=0.02, beta_1=0.9, beta_2=0.999, amsgrad=False)\n",
    "\n",
    "\n",
    "classifier.compile(optimizer='adam' , loss='binary_crossentropy', metrics=['accuracy'])\n",
    "\n",
    "print(classifier.summary())\n",
    "plot_model(classifier, to_file='Classifier1_model_plot.png', show_shapes=True, show_layer_names=True)"
   ]
  },
  {
   "cell_type": "code",
   "execution_count": 5,
   "metadata": {},
   "outputs": [
    {
     "name": "stdout",
     "output_type": "stream",
     "text": [
      "WARNING:tensorflow:From C:\\Users\\rohan\\Anaconda3\\lib\\site-packages\\keras\\backend\\tensorflow_backend.py:986: The name tf.assign_add is deprecated. Please use tf.compat.v1.assign_add instead.\n",
      "\n",
      "WARNING:tensorflow:From C:\\Users\\rohan\\Anaconda3\\lib\\site-packages\\keras\\backend\\tensorflow_backend.py:973: The name tf.assign is deprecated. Please use tf.compat.v1.assign instead.\n",
      "\n",
      "WARNING:tensorflow:From C:\\Users\\rohan\\Anaconda3\\lib\\site-packages\\keras\\backend\\tensorflow_backend.py:2741: The name tf.Session is deprecated. Please use tf.compat.v1.Session instead.\n",
      "\n",
      "Train on 460 samples, validate on 116 samples\n",
      "Epoch 1/50\n",
      "WARNING:tensorflow:From C:\\Users\\rohan\\Anaconda3\\lib\\site-packages\\keras\\backend\\tensorflow_backend.py:174: The name tf.get_default_session is deprecated. Please use tf.compat.v1.get_default_session instead.\n",
      "\n",
      "WARNING:tensorflow:From C:\\Users\\rohan\\Anaconda3\\lib\\site-packages\\keras\\backend\\tensorflow_backend.py:181: The name tf.ConfigProto is deprecated. Please use tf.compat.v1.ConfigProto instead.\n",
      "\n",
      "WARNING:tensorflow:From C:\\Users\\rohan\\Anaconda3\\lib\\site-packages\\keras\\backend\\tensorflow_backend.py:190: The name tf.global_variables is deprecated. Please use tf.compat.v1.global_variables instead.\n",
      "\n",
      "WARNING:tensorflow:From C:\\Users\\rohan\\Anaconda3\\lib\\site-packages\\keras\\backend\\tensorflow_backend.py:199: The name tf.is_variable_initialized is deprecated. Please use tf.compat.v1.is_variable_initialized instead.\n",
      "\n",
      "WARNING:tensorflow:From C:\\Users\\rohan\\Anaconda3\\lib\\site-packages\\keras\\backend\\tensorflow_backend.py:206: The name tf.variables_initializer is deprecated. Please use tf.compat.v1.variables_initializer instead.\n",
      "\n",
      "460/460 [==============================] - 3s 7ms/step - loss: 0.6665 - acc: 0.5239 - val_loss: 0.6665 - val_acc: 0.5776\n",
      "Epoch 2/50\n",
      "460/460 [==============================] - 0s 457us/step - loss: 0.6320 - acc: 0.5674 - val_loss: 0.6469 - val_acc: 0.6466\n",
      "Epoch 3/50\n",
      "460/460 [==============================] - 0s 481us/step - loss: 0.6024 - acc: 0.6804 - val_loss: 0.6295 - val_acc: 0.7155\n",
      "Epoch 4/50\n",
      "460/460 [==============================] - 0s 483us/step - loss: 0.5715 - acc: 0.7717 - val_loss: 0.6104 - val_acc: 0.7328\n",
      "Epoch 5/50\n",
      "460/460 [==============================] - 0s 564us/step - loss: 0.5384 - acc: 0.8022 - val_loss: 0.5895 - val_acc: 0.7672\n",
      "Epoch 6/50\n",
      "460/460 [==============================] - 0s 519us/step - loss: 0.5046 - acc: 0.8435 - val_loss: 0.5682 - val_acc: 0.7759\n",
      "Epoch 7/50\n",
      "460/460 [==============================] - 0s 722us/step - loss: 0.4689 - acc: 0.8522 - val_loss: 0.5437 - val_acc: 0.7845\n",
      "Epoch 8/50\n",
      "460/460 [==============================] - 0s 790us/step - loss: 0.4334 - acc: 0.8739 - val_loss: 0.5200 - val_acc: 0.8103\n",
      "Epoch 9/50\n",
      "460/460 [==============================] - 0s 647us/step - loss: 0.3981 - acc: 0.8913 - val_loss: 0.4982 - val_acc: 0.8190\n",
      "Epoch 10/50\n",
      "460/460 [==============================] - 0s 561us/step - loss: 0.3671 - acc: 0.8978 - val_loss: 0.4766 - val_acc: 0.8621\n",
      "Epoch 11/50\n",
      "460/460 [==============================] - 0s 668us/step - loss: 0.3394 - acc: 0.9000 - val_loss: 0.4543 - val_acc: 0.8707\n",
      "Epoch 12/50\n",
      "460/460 [==============================] - 0s 675us/step - loss: 0.3167 - acc: 0.8978 - val_loss: 0.4395 - val_acc: 0.8707\n",
      "Epoch 13/50\n",
      "460/460 [==============================] - 0s 739us/step - loss: 0.2976 - acc: 0.9022 - val_loss: 0.4278 - val_acc: 0.8707\n",
      "Epoch 14/50\n",
      "460/460 [==============================] - 0s 734us/step - loss: 0.2837 - acc: 0.9000 - val_loss: 0.4171 - val_acc: 0.8879\n",
      "Epoch 15/50\n",
      "460/460 [==============================] - 0s 727us/step - loss: 0.2712 - acc: 0.9087 - val_loss: 0.4071 - val_acc: 0.8793\n",
      "Epoch 16/50\n",
      "460/460 [==============================] - 0s 714us/step - loss: 0.2631 - acc: 0.9043 - val_loss: 0.3967 - val_acc: 0.8879\n",
      "Epoch 17/50\n",
      "460/460 [==============================] - 0s 689us/step - loss: 0.2547 - acc: 0.9022 - val_loss: 0.3886 - val_acc: 0.8966\n",
      "Epoch 18/50\n",
      "460/460 [==============================] - 0s 700us/step - loss: 0.2477 - acc: 0.9065 - val_loss: 0.3815 - val_acc: 0.8966\n",
      "Epoch 19/50\n",
      "460/460 [==============================] - 0s 705us/step - loss: 0.2425 - acc: 0.9022 - val_loss: 0.3763 - val_acc: 0.8879\n",
      "Epoch 20/50\n",
      "460/460 [==============================] - 0s 752us/step - loss: 0.2389 - acc: 0.9022 - val_loss: 0.3721 - val_acc: 0.8966\n",
      "Epoch 21/50\n",
      "460/460 [==============================] - 0s 736us/step - loss: 0.2348 - acc: 0.9000 - val_loss: 0.3663 - val_acc: 0.8879\n",
      "Epoch 22/50\n",
      "460/460 [==============================] - 0s 525us/step - loss: 0.2323 - acc: 0.9065 - val_loss: 0.3668 - val_acc: 0.8966\n",
      "Epoch 23/50\n",
      "460/460 [==============================] - 0s 264us/step - loss: 0.2311 - acc: 0.9000 - val_loss: 0.3605 - val_acc: 0.8879\n",
      "Epoch 24/50\n",
      "460/460 [==============================] - 0s 261us/step - loss: 0.2275 - acc: 0.9043 - val_loss: 0.3597 - val_acc: 0.8879\n",
      "Epoch 25/50\n",
      "460/460 [==============================] - 0s 445us/step - loss: 0.2258 - acc: 0.9000 - val_loss: 0.3573 - val_acc: 0.8879\n",
      "Epoch 26/50\n",
      "460/460 [==============================] - 0s 376us/step - loss: 0.2244 - acc: 0.9065 - val_loss: 0.3554 - val_acc: 0.8966\n",
      "Epoch 27/50\n",
      "460/460 [==============================] - 0s 783us/step - loss: 0.2234 - acc: 0.9065 - val_loss: 0.3539 - val_acc: 0.8966\n",
      "Epoch 28/50\n",
      "460/460 [==============================] - 0s 777us/step - loss: 0.2218 - acc: 0.9043 - val_loss: 0.3522 - val_acc: 0.8879\n",
      "Epoch 29/50\n",
      "460/460 [==============================] - 0s 503us/step - loss: 0.2214 - acc: 0.9022 - val_loss: 0.3509 - val_acc: 0.8966\n",
      "Epoch 30/50\n",
      "460/460 [==============================] - 0s 589us/step - loss: 0.2197 - acc: 0.9087 - val_loss: 0.3514 - val_acc: 0.8879\n",
      "Epoch 31/50\n",
      "460/460 [==============================] - 0s 649us/step - loss: 0.2201 - acc: 0.9043 - val_loss: 0.3503 - val_acc: 0.8966\n",
      "Epoch 32/50\n",
      "460/460 [==============================] - 0s 675us/step - loss: 0.2174 - acc: 0.9109 - val_loss: 0.3456 - val_acc: 0.8966\n",
      "Epoch 33/50\n",
      "460/460 [==============================] - 0s 481us/step - loss: 0.2174 - acc: 0.9043 - val_loss: 0.3460 - val_acc: 0.8966\n",
      "Epoch 34/50\n",
      "460/460 [==============================] - 0s 478us/step - loss: 0.2167 - acc: 0.9065 - val_loss: 0.3470 - val_acc: 0.8966\n",
      "Epoch 35/50\n",
      "460/460 [==============================] - 0s 505us/step - loss: 0.2160 - acc: 0.9087 - val_loss: 0.3465 - val_acc: 0.8966\n",
      "Epoch 36/50\n",
      "460/460 [==============================] - 0s 462us/step - loss: 0.2164 - acc: 0.9043 - val_loss: 0.3473 - val_acc: 0.8966\n",
      "Epoch 37/50\n",
      "460/460 [==============================] - 0s 508us/step - loss: 0.2154 - acc: 0.9087 - val_loss: 0.3436 - val_acc: 0.8966\n",
      "Epoch 38/50\n",
      "460/460 [==============================] - 0s 521us/step - loss: 0.2143 - acc: 0.9065 - val_loss: 0.3452 - val_acc: 0.8966\n",
      "Epoch 39/50\n",
      "460/460 [==============================] - 0s 625us/step - loss: 0.2140 - acc: 0.9087 - val_loss: 0.3447 - val_acc: 0.8966\n",
      "Epoch 40/50\n",
      "460/460 [==============================] - 0s 295us/step - loss: 0.2151 - acc: 0.9109 - val_loss: 0.3444 - val_acc: 0.8966\n",
      "Epoch 41/50\n",
      "460/460 [==============================] - 0s 400us/step - loss: 0.2124 - acc: 0.9087 - val_loss: 0.3429 - val_acc: 0.8966\n",
      "Epoch 42/50\n",
      "460/460 [==============================] - 0s 717us/step - loss: 0.2123 - acc: 0.9087 - val_loss: 0.3440 - val_acc: 0.8966\n",
      "Epoch 43/50\n",
      "460/460 [==============================] - 0s 576us/step - loss: 0.2118 - acc: 0.9130 - val_loss: 0.3465 - val_acc: 0.8966\n",
      "Epoch 44/50\n",
      "460/460 [==============================] - 0s 386us/step - loss: 0.2111 - acc: 0.9043 - val_loss: 0.3449 - val_acc: 0.8966\n",
      "Epoch 45/50\n",
      "460/460 [==============================] - 0s 513us/step - loss: 0.2117 - acc: 0.9109 - val_loss: 0.3447 - val_acc: 0.8966\n",
      "Epoch 46/50\n",
      "460/460 [==============================] - 0s 548us/step - loss: 0.2109 - acc: 0.9065 - val_loss: 0.3428 - val_acc: 0.8966\n",
      "Epoch 47/50\n",
      "460/460 [==============================] - 0s 540us/step - loss: 0.2111 - acc: 0.9065 - val_loss: 0.3454 - val_acc: 0.8966\n",
      "Epoch 48/50\n",
      "460/460 [==============================] - 0s 319us/step - loss: 0.2102 - acc: 0.9130 - val_loss: 0.3432 - val_acc: 0.8966\n",
      "Epoch 49/50\n"
     ]
    },
    {
     "name": "stdout",
     "output_type": "stream",
     "text": [
      "460/460 [==============================] - 0s 371us/step - loss: 0.2098 - acc: 0.9130 - val_loss: 0.3467 - val_acc: 0.8966\n",
      "Epoch 50/50\n",
      "460/460 [==============================] - 0s 476us/step - loss: 0.2096 - acc: 0.9109 - val_loss: 0.3430 - val_acc: 0.8966\n"
     ]
    }
   ],
   "source": [
    "history = classifier.fit(features_train, labels_train, validation_data=(features_test,labels_test),batch_size=16, epochs=50)"
   ]
  },
  {
   "cell_type": "code",
   "execution_count": 6,
   "metadata": {},
   "outputs": [
    {
     "name": "stdout",
     "output_type": "stream",
     "text": [
      "(120, 11)\n",
      "(120,)\n"
     ]
    }
   ],
   "source": [
    "validation_set = pd.read_csv(\"Insta Data/test.csv\")\n",
    "\n",
    "validation_features = validation_set.iloc[:, 0:11].values\n",
    "print(validation_features.shape)\n",
    "\n",
    "validation_labels = validation_set.iloc[:, 11].values\n",
    "print(validation_labels.shape)"
   ]
  },
  {
   "cell_type": "code",
   "execution_count": 7,
   "metadata": {},
   "outputs": [
    {
     "name": "stdout",
     "output_type": "stream",
     "text": [
      "[[1.00000000e+00 3.70786517e-01 1.11111111e-01 ... 1.86269292e-02\n",
      "  1.21337437e-04 8.09178744e-02]\n",
      " [1.00000000e+00 0.00000000e+00 5.55555556e-01 ... 1.59659393e-03\n",
      "  8.70248011e-06 6.70960816e-04]\n",
      " [1.00000000e+00 0.00000000e+00 2.22222222e-01 ... 1.69771155e-01\n",
      "  8.15546707e-05 8.95061728e-02]\n",
      " ...\n",
      " [1.00000000e+00 0.00000000e+00 2.22222222e-01 ... 1.59659393e-03\n",
      "  2.07119027e-04 4.79200215e-01]\n",
      " [0.00000000e+00 1.91011236e-01 1.11111111e-01 ... 5.32197978e-04\n",
      "  5.44526612e-05 2.27321524e-01]\n",
      " [1.00000000e+00 4.94382022e-01 1.11111111e-01 ... 1.59659393e-03\n",
      "  9.69704926e-06 8.99087493e-03]]\n"
     ]
    }
   ],
   "source": [
    "validation_features = sc.fit_transform(validation_features)\n",
    "print(validation_features)\n",
    "pred = classifier.predict(validation_features)\n",
    "pred = (pred > 0.5).astype(int)\n"
   ]
  },
  {
   "cell_type": "code",
   "execution_count": 8,
   "metadata": {},
   "outputs": [
    {
     "name": "stdout",
     "output_type": "stream",
     "text": [
      "              precision    recall  f1-score   support\n",
      "\n",
      "           0       0.85      0.92      0.88        60\n",
      "           1       0.91      0.83      0.87        60\n",
      "\n",
      "    accuracy                           0.88       120\n",
      "   macro avg       0.88      0.88      0.87       120\n",
      "weighted avg       0.88      0.88      0.87       120\n",
      "\n"
     ]
    }
   ],
   "source": [
    "print(classification_report(validation_labels, pred))"
   ]
  },
  {
   "cell_type": "code",
   "execution_count": 9,
   "metadata": {},
   "outputs": [
    {
     "name": "stdout",
     "output_type": "stream",
     "text": [
      "[[55  5]\n",
      " [10 50]]\n"
     ]
    }
   ],
   "source": [
    "print(confusion_matrix(validation_labels, pred))"
   ]
  },
  {
   "cell_type": "code",
   "execution_count": 10,
   "metadata": {},
   "outputs": [
    {
     "data": {
      "image/png": "[encoded data removed]",
      "text/plain": [
       "<Figure size 432x288 with 1 Axes>"
      ]
     },
     "metadata": {
      "needs_background": "light"
     },
     "output_type": "display_data"
    }
   ],
   "source": [
    "plt.plot(history.history['loss'])\n",
    "plt.plot(history.history['val_loss'])\n",
    "plt.title('Loss Value Plot')\n",
    "plt.ylabel('Loss')\n",
    "plt.xlabel('Epoch')\n",
    "plt.legend(['Training', 'Validation '], loc='upper right')\n",
    "plt.savefig(\"Loss Plot.png\")\n",
    "plt.show()\n"
   ]
  },
  {
   "cell_type": "code",
   "execution_count": 11,
   "metadata": {},
   "outputs": [
    {
     "data": {
      "image/png": "[encoded data removed]",
      "text/plain": [
       "<Figure size 432x288 with 1 Axes>"
      ]
     },
     "metadata": {
      "needs_background": "light"
     },
     "output_type": "display_data"
    }
   ],
   "source": [
    "plt.plot(history.history['acc'])\n",
    "plt.plot(history.history['val_acc'])\n",
    "plt.title('Accuracy Plot')\n",
    "plt.ylabel('Accuracy')\n",
    "plt.xlabel('Epoch')\n",
    "plt.legend(['Training', 'Validation '], loc='upper right')\n",
    "plt.savefig(\"Accuracy Plot.png\")\n",
    "plt.show()\n"
   ]
  }
 ],
 "metadata": {
  "kernelspec": {
   "display_name": "Python 3",
   "language": "python",
   "name": "python3"
  },
  "language_info": {
   "codemirror_mode": {
    "name": "ipython",
    "version": 3
   },
   "file_extension": ".py",
   "mimetype": "text/x-python",
   "name": "python",
   "nbconvert_exporter": "python",
   "pygments_lexer": "ipython3",
   "version": "3.7.3"
  }
 },
 "nbformat": 4,
 "nbformat_minor": 2
}
